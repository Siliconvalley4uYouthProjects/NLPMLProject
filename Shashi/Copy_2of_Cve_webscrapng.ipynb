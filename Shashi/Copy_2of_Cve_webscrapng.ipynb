{
  "nbformat": 4,
  "nbformat_minor": 0,
  "metadata": {
    "colab": {
      "name": "Copy_2of Cve_webscrapng.ipynb",
      "provenance": [],
      "collapsed_sections": []
    },
    "kernelspec": {
      "name": "python3",
      "display_name": "Python 3"
    },
    "language_info": {
      "name": "python"
    }
  },
  "cells": [
    {
      "cell_type": "code",
      "execution_count": 93,
      "metadata": {
        "id": "ycdSgR3iFXiL"
      },
      "outputs": [],
      "source": [
        "import requests\n",
        "from bs4 import BeautifulSoup\n",
        "import pandas as pd\n",
        "import csv\n",
        "import numpy as np\n",
        "from tabulate import tabulate\n"
      ]
    },
    {
      "cell_type": "code",
      "source": [
        "headers = dict()\n",
        "headers[\n",
        "    \"User-Agent\"\n",
        "] = \"Mozilla/5.0 (Windows NT 10.0; Win64; x64) AppleWebKit/537.36 (KHTML, like Gecko) Chrome/74.0.3729.169 Safari/537.36\"\n"
      ],
      "metadata": {
        "id": "XS1UKZk9Fkzb"
      },
      "execution_count": 94,
      "outputs": []
    },
    {
      "cell_type": "code",
      "source": [
        "# Defining of the dataframe\n",
        "df = pd.DataFrame(columns=['S_no','CVE_ID']) #, 'CWE_ID','No_of_Exploits','Vulnerability_Type(s)','Publish_Date','Update_Date','Score','Gained_Access_Level','Access','Complexity','Authentication','Conf','Integ','Avail'])\n",
        "pages = np.arange(1, 20, 1)\n",
        "for page in pages:\n",
        "    url = \"https://www.cvedetails.com/vulnerability-list.php?vendor_id=16&product_id=&version_id=&page=1&hasexp=0&opdos=0&opec=0&opov=0&opcsrf=0&opgpriv=0&opsqli=0&opxss=0&opdirt=0&opmemc=0&ophttprs=0&opbyp=0&opfileinc=0&opginf=0&cvssscoremin=0&cvssscoremax=0&year=0&month=0&cweid=0&order=1&trc=4159&sha=b6b9f0966b7dbca88b729e5b85a1f8fffc37d986\"\n",
        "    results = requests.get(url, headers=headers)\n",
        "    soup = BeautifulSoup(results.text, \"html.parser\")\n",
        "    table = soup.find(\"div\").find_all(\"a\", class_=\"searchresults sortable\")\n",
        "    print(page)\n",
        "\n"
      ],
      "metadata": {
        "colab": {
          "base_uri": "https://localhost:8080/"
        },
        "id": "LPn5FpRHF4fr",
        "outputId": "b562c81e-1ba7-4ae2-da05-d768efe83a15"
      },
      "execution_count": 95,
      "outputs": [
        {
          "output_type": "stream",
          "name": "stdout",
          "text": [
            "1\n",
            "2\n",
            "3\n",
            "4\n",
            "5\n",
            "6\n",
            "7\n",
            "8\n",
            "9\n",
            "10\n",
            "11\n",
            "12\n",
            "13\n",
            "14\n",
            "15\n",
            "16\n",
            "17\n",
            "18\n",
            "19\n"
          ]
        }
      ]
    },
    {
      "cell_type": "code",
      "source": [
        "table1 = soup.find('table', class_=\"searchresults sortable\", id=\"vulnslisttable\")\n"
      ],
      "metadata": {
        "id": "bzggRDaJcC5w"
      },
      "execution_count": 97,
      "outputs": []
    },
    {
      "cell_type": "code",
      "source": [
        "# Obtain every title of columns with tag <th>\n",
        "headers = []\n",
        "for i in table1.find_all('th'):\n",
        " title = i.text\n",
        " headers.append(title)"
      ],
      "metadata": {
        "id": "9FR5UkD2caDx"
      },
      "execution_count": 98,
      "outputs": []
    },
    {
      "cell_type": "code",
      "source": [
        "headers"
      ],
      "metadata": {
        "colab": {
          "base_uri": "https://localhost:8080/"
        },
        "id": "bkSNHPdhcfWN",
        "outputId": "322bf759-1202-4ed7-fd70-b598fdd1bef9"
      },
      "execution_count": 99,
      "outputs": [
        {
          "output_type": "execute_result",
          "data": {
            "text/plain": [
              "['#',\n",
              " '\\n\\t\\t\\t\\tCVE ID\\n\\t\\t\\t',\n",
              " '\\n\\t\\t\\t\\tCWE ID\\n\\t\\t\\t',\n",
              " '\\n\\t\\t\\t\\t# of Exploits\\n\\t\\t\\t',\n",
              " '\\n\\t\\t\\t\\tVulnerability Type(s)\\n\\t\\t\\t',\n",
              " '\\n\\t\\t\\t\\tPublish Date\\n\\t\\t\\t',\n",
              " '\\n\\t\\t\\t\\tUpdate Date\\n\\t\\t\\t',\n",
              " '\\n\\t\\t\\t\\tScore\\n\\t\\t\\t',\n",
              " '\\n\\t\\t\\t\\tGained Access Level\\n\\t\\t\\t',\n",
              " '\\n\\t\\t\\t\\tAccess\\n\\t\\t\\t',\n",
              " '\\n\\t\\t\\t\\tComplexity\\n\\t\\t\\t',\n",
              " '\\n\\t\\t\\t\\tAuthentication\\n\\t\\t\\t',\n",
              " '\\n\\t\\t\\t\\tConf.\\n\\t\\t\\t',\n",
              " '\\n\\t\\t\\t\\tInteg.\\n\\t\\t\\t',\n",
              " '\\n\\t\\t\\t\\tAvail.\\n\\t\\t\\t']"
            ]
          },
          "metadata": {},
          "execution_count": 99
        }
      ]
    },
    {
      "cell_type": "code",
      "source": [
        "mydata = pd.DataFrame(columns = headers)"
      ],
      "metadata": {
        "id": "ri7Fqxypc0w-"
      },
      "execution_count": 100,
      "outputs": []
    },
    {
      "cell_type": "code",
      "source": [
        "df"
      ],
      "metadata": {
        "colab": {
          "base_uri": "https://localhost:8080/",
          "height": 49
        },
        "id": "G4Npo4phdZqt",
        "outputId": "099c8007-b9e3-4c18-bef1-b10ab041bedd"
      },
      "execution_count": 101,
      "outputs": [
        {
          "output_type": "execute_result",
          "data": {
            "text/plain": [
              "Empty DataFrame\n",
              "Columns: [S_no, CVE_ID]\n",
              "Index: []"
            ],
            "text/html": [
              "\n",
              "  <div id=\"df-3558e455-a469-4520-80f4-a655d5b93a03\">\n",
              "    <div class=\"colab-df-container\">\n",
              "      <div>\n",
              "<style scoped>\n",
              "    .dataframe tbody tr th:only-of-type {\n",
              "        vertical-align: middle;\n",
              "    }\n",
              "\n",
              "    .dataframe tbody tr th {\n",
              "        vertical-align: top;\n",
              "    }\n",
              "\n",
              "    .dataframe thead th {\n",
              "        text-align: right;\n",
              "    }\n",
              "</style>\n",
              "<table border=\"1\" class=\"dataframe\">\n",
              "  <thead>\n",
              "    <tr style=\"text-align: right;\">\n",
              "      <th></th>\n",
              "      <th>S_no</th>\n",
              "      <th>CVE_ID</th>\n",
              "    </tr>\n",
              "  </thead>\n",
              "  <tbody>\n",
              "  </tbody>\n",
              "</table>\n",
              "</div>\n",
              "      <button class=\"colab-df-convert\" onclick=\"convertToInteractive('df-3558e455-a469-4520-80f4-a655d5b93a03')\"\n",
              "              title=\"Convert this dataframe to an interactive table.\"\n",
              "              style=\"display:none;\">\n",
              "        \n",
              "  <svg xmlns=\"http://www.w3.org/2000/svg\" height=\"24px\"viewBox=\"0 0 24 24\"\n",
              "       width=\"24px\">\n",
              "    <path d=\"M0 0h24v24H0V0z\" fill=\"none\"/>\n",
              "    <path d=\"M18.56 5.44l.94 2.06.94-2.06 2.06-.94-2.06-.94-.94-2.06-.94 2.06-2.06.94zm-11 1L8.5 8.5l.94-2.06 2.06-.94-2.06-.94L8.5 2.5l-.94 2.06-2.06.94zm10 10l.94 2.06.94-2.06 2.06-.94-2.06-.94-.94-2.06-.94 2.06-2.06.94z\"/><path d=\"M17.41 7.96l-1.37-1.37c-.4-.4-.92-.59-1.43-.59-.52 0-1.04.2-1.43.59L10.3 9.45l-7.72 7.72c-.78.78-.78 2.05 0 2.83L4 21.41c.39.39.9.59 1.41.59.51 0 1.02-.2 1.41-.59l7.78-7.78 2.81-2.81c.8-.78.8-2.07 0-2.86zM5.41 20L4 18.59l7.72-7.72 1.47 1.35L5.41 20z\"/>\n",
              "  </svg>\n",
              "      </button>\n",
              "      \n",
              "  <style>\n",
              "    .colab-df-container {\n",
              "      display:flex;\n",
              "      flex-wrap:wrap;\n",
              "      gap: 12px;\n",
              "    }\n",
              "\n",
              "    .colab-df-convert {\n",
              "      background-color: #E8F0FE;\n",
              "      border: none;\n",
              "      border-radius: 50%;\n",
              "      cursor: pointer;\n",
              "      display: none;\n",
              "      fill: #1967D2;\n",
              "      height: 32px;\n",
              "      padding: 0 0 0 0;\n",
              "      width: 32px;\n",
              "    }\n",
              "\n",
              "    .colab-df-convert:hover {\n",
              "      background-color: #E2EBFA;\n",
              "      box-shadow: 0px 1px 2px rgba(60, 64, 67, 0.3), 0px 1px 3px 1px rgba(60, 64, 67, 0.15);\n",
              "      fill: #174EA6;\n",
              "    }\n",
              "\n",
              "    [theme=dark] .colab-df-convert {\n",
              "      background-color: #3B4455;\n",
              "      fill: #D2E3FC;\n",
              "    }\n",
              "\n",
              "    [theme=dark] .colab-df-convert:hover {\n",
              "      background-color: #434B5C;\n",
              "      box-shadow: 0px 1px 3px 1px rgba(0, 0, 0, 0.15);\n",
              "      filter: drop-shadow(0px 1px 2px rgba(0, 0, 0, 0.3));\n",
              "      fill: #FFFFFF;\n",
              "    }\n",
              "  </style>\n",
              "\n",
              "      <script>\n",
              "        const buttonEl =\n",
              "          document.querySelector('#df-3558e455-a469-4520-80f4-a655d5b93a03 button.colab-df-convert');\n",
              "        buttonEl.style.display =\n",
              "          google.colab.kernel.accessAllowed ? 'block' : 'none';\n",
              "\n",
              "        async function convertToInteractive(key) {\n",
              "          const element = document.querySelector('#df-3558e455-a469-4520-80f4-a655d5b93a03');\n",
              "          const dataTable =\n",
              "            await google.colab.kernel.invokeFunction('convertToInteractive',\n",
              "                                                     [key], {});\n",
              "          if (!dataTable) return;\n",
              "\n",
              "          const docLinkHtml = 'Like what you see? Visit the ' +\n",
              "            '<a target=\"_blank\" href=https://colab.research.google.com/notebooks/data_table.ipynb>data table notebook</a>'\n",
              "            + ' to learn more about interactive tables.';\n",
              "          element.innerHTML = '';\n",
              "          dataTable['output_type'] = 'display_data';\n",
              "          await google.colab.output.renderOutput(dataTable, element);\n",
              "          const docLink = document.createElement('div');\n",
              "          docLink.innerHTML = docLinkHtml;\n",
              "          element.appendChild(docLink);\n",
              "        }\n",
              "      </script>\n",
              "    </div>\n",
              "  </div>\n",
              "  "
            ]
          },
          "metadata": {},
          "execution_count": 101
        }
      ]
    },
    {
      "cell_type": "code",
      "source": [
        "# Create a for loop to fill mydata\n",
        "for j in table1.find_all('tr')[1:]:\n",
        " row_data = j.find_all('td')\n",
        " col = [i.text for i in row_data]\n",
        " length = len(mydata)\n",
        " #mydata.loc[length] = col\n",
        " mydata = mydata.append(col, ignore_index=True)\n",
        "\n",
        "\n",
        " \n"
      ],
      "metadata": {
        "id": "B0hkSl5tc4DT"
      },
      "execution_count": 102,
      "outputs": []
    },
    {
      "cell_type": "code",
      "source": [
        ""
      ],
      "metadata": {
        "colab": {
          "base_uri": "https://localhost:8080/"
        },
        "id": "uCTmyr9nA-rR",
        "outputId": "c4fa9940-b239-4943-f8a3-1c11f508a657"
      },
      "execution_count": 103,
      "outputs": [
        {
          "output_type": "execute_result",
          "data": {
            "text/plain": [
              "['\\n\\t\\t\\t\\t\\t\\tA vulnerability in the API endpoints for Cisco DNA Center could allow an authenticated, remote attacker to gain access to sensitive information that should be restricted. The attacker must have valid device credentials. This vulnerability is due to improper access controls on API endpoints. An attacker could exploit the vulnerability by sending a specific API request to an affected application. A successful exploit could allow the attacker to obtain sensitive information about other users who are configured with higher privileges on the application.\\t\\t\\t\\t\\t']"
            ]
          },
          "metadata": {},
          "execution_count": 103
        }
      ]
    },
    {
      "cell_type": "code",
      "source": [
        "df2 = (tabulate(mydata[0], headers='keys', tablefmt='psql', showindex=False))"
      ],
      "metadata": {
        "colab": {
          "base_uri": "https://localhost:8080/",
          "height": 165
        },
        "id": "D2LFyU972_MF",
        "outputId": "739eede3-cb18-4f01-d086-b27da2b5db64"
      },
      "execution_count": 15,
      "outputs": [
        {
          "output_type": "error",
          "ename": "NameError",
          "evalue": "ignored",
          "traceback": [
            "\u001b[0;31m---------------------------------------------------------------------------\u001b[0m",
            "\u001b[0;31mNameError\u001b[0m                                 Traceback (most recent call last)",
            "\u001b[0;32m<ipython-input-15-a68d3fabf134>\u001b[0m in \u001b[0;36m<module>\u001b[0;34m()\u001b[0m\n\u001b[0;32m----> 1\u001b[0;31m \u001b[0mdf2\u001b[0m \u001b[0;34m=\u001b[0m \u001b[0;34m(\u001b[0m\u001b[0mtabulate\u001b[0m\u001b[0;34m(\u001b[0m\u001b[0mmydata\u001b[0m\u001b[0;34m[\u001b[0m\u001b[0;36m0\u001b[0m\u001b[0;34m]\u001b[0m\u001b[0;34m,\u001b[0m \u001b[0mheaders\u001b[0m\u001b[0;34m=\u001b[0m\u001b[0;34m'keys'\u001b[0m\u001b[0;34m,\u001b[0m \u001b[0mtablefmt\u001b[0m\u001b[0;34m=\u001b[0m\u001b[0;34m'psql'\u001b[0m\u001b[0;34m,\u001b[0m \u001b[0mshowindex\u001b[0m\u001b[0;34m=\u001b[0m\u001b[0;32mFalse\u001b[0m\u001b[0;34m)\u001b[0m\u001b[0;34m)\u001b[0m\u001b[0;34m\u001b[0m\u001b[0;34m\u001b[0m\u001b[0m\n\u001b[0m",
            "\u001b[0;31mNameError\u001b[0m: name 'mydata' is not defined"
          ]
        }
      ]
    },
    {
      "cell_type": "code",
      "source": [
        "# mydata.loc[length] = row"
      ],
      "metadata": {
        "id": "QGEGgLwQyFJa"
      },
      "execution_count": null,
      "outputs": []
    },
    {
      "cell_type": "code",
      "source": [
        ""
      ],
      "metadata": {
        "id": "x1-XIwgfxCSA"
      },
      "execution_count": 46,
      "outputs": []
    },
    {
      "cell_type": "code",
      "source": [
        "mydata\n"
      ],
      "metadata": {
        "id": "aN8HYdXggzQ2",
        "colab": {
          "base_uri": "https://localhost:8080/",
          "height": 574
        },
        "outputId": "f9e30a90-98ae-4d4a-e189-878c3a6cd7ed"
      },
      "execution_count": 104,
      "outputs": [
        {
          "output_type": "execute_result",
          "data": {
            "text/plain": [
              "                                                     0  \\\n",
              "0               \\n \\n\\t\\t\\t\\t\\t\\t\\t\\t\\t\\t\\t1\\t\\t\\t\\t\\t   \n",
              "1                                       CVE-2022-20750   \n",
              "2                                                   20   \n",
              "3                                               \\n\\n\\n   \n",
              "4                         \\n\\t\\t\\t\\t\\t\\tDoS \\t\\t\\t\\t\\t   \n",
              "..                                                 ...   \n",
              "795                                                ???   \n",
              "796                                            Partial   \n",
              "797                                               None   \n",
              "798                                               None   \n",
              "799  \\n\\t\\t\\t\\t\\t\\tA vulnerability in the API endpo...   \n",
              "\n",
              "    \\n\\t\\t\\t\\t# of Exploits\\n\\t\\t\\t \\n\\t\\t\\t\\tAccess\\n\\t\\t\\t  \\\n",
              "0                               NaN                      NaN   \n",
              "1                               NaN                      NaN   \n",
              "2                               NaN                      NaN   \n",
              "3                               NaN                      NaN   \n",
              "4                               NaN                      NaN   \n",
              "..                              ...                      ...   \n",
              "795                             NaN                      NaN   \n",
              "796                             NaN                      NaN   \n",
              "797                             NaN                      NaN   \n",
              "798                             NaN                      NaN   \n",
              "799                             NaN                      NaN   \n",
              "\n",
              "    \\n\\t\\t\\t\\tAuthentication\\n\\t\\t\\t \\n\\t\\t\\t\\tAvail.\\n\\t\\t\\t  \\\n",
              "0                                NaN                      NaN   \n",
              "1                                NaN                      NaN   \n",
              "2                                NaN                      NaN   \n",
              "3                                NaN                      NaN   \n",
              "4                                NaN                      NaN   \n",
              "..                               ...                      ...   \n",
              "795                              NaN                      NaN   \n",
              "796                              NaN                      NaN   \n",
              "797                              NaN                      NaN   \n",
              "798                              NaN                      NaN   \n",
              "799                              NaN                      NaN   \n",
              "\n",
              "    \\n\\t\\t\\t\\tCVE ID\\n\\t\\t\\t \\n\\t\\t\\t\\tCWE ID\\n\\t\\t\\t  \\\n",
              "0                        NaN                      NaN   \n",
              "1                        NaN                      NaN   \n",
              "2                        NaN                      NaN   \n",
              "3                        NaN                      NaN   \n",
              "4                        NaN                      NaN   \n",
              "..                       ...                      ...   \n",
              "795                      NaN                      NaN   \n",
              "796                      NaN                      NaN   \n",
              "797                      NaN                      NaN   \n",
              "798                      NaN                      NaN   \n",
              "799                      NaN                      NaN   \n",
              "\n",
              "    \\n\\t\\t\\t\\tComplexity\\n\\t\\t\\t \\n\\t\\t\\t\\tConf.\\n\\t\\t\\t  \\\n",
              "0                            NaN                     NaN   \n",
              "1                            NaN                     NaN   \n",
              "2                            NaN                     NaN   \n",
              "3                            NaN                     NaN   \n",
              "4                            NaN                     NaN   \n",
              "..                           ...                     ...   \n",
              "795                          NaN                     NaN   \n",
              "796                          NaN                     NaN   \n",
              "797                          NaN                     NaN   \n",
              "798                          NaN                     NaN   \n",
              "799                          NaN                     NaN   \n",
              "\n",
              "    \\n\\t\\t\\t\\tGained Access Level\\n\\t\\t\\t \\n\\t\\t\\t\\tInteg.\\n\\t\\t\\t  \\\n",
              "0                                     NaN                      NaN   \n",
              "1                                     NaN                      NaN   \n",
              "2                                     NaN                      NaN   \n",
              "3                                     NaN                      NaN   \n",
              "4                                     NaN                      NaN   \n",
              "..                                    ...                      ...   \n",
              "795                                   NaN                      NaN   \n",
              "796                                   NaN                      NaN   \n",
              "797                                   NaN                      NaN   \n",
              "798                                   NaN                      NaN   \n",
              "799                                   NaN                      NaN   \n",
              "\n",
              "    \\n\\t\\t\\t\\tPublish Date\\n\\t\\t\\t \\n\\t\\t\\t\\tScore\\n\\t\\t\\t  \\\n",
              "0                              NaN                     NaN   \n",
              "1                              NaN                     NaN   \n",
              "2                              NaN                     NaN   \n",
              "3                              NaN                     NaN   \n",
              "4                              NaN                     NaN   \n",
              "..                             ...                     ...   \n",
              "795                            NaN                     NaN   \n",
              "796                            NaN                     NaN   \n",
              "797                            NaN                     NaN   \n",
              "798                            NaN                     NaN   \n",
              "799                            NaN                     NaN   \n",
              "\n",
              "    \\n\\t\\t\\t\\tUpdate Date\\n\\t\\t\\t \\n\\t\\t\\t\\tVulnerability Type(s)\\n\\t\\t\\t    #  \n",
              "0                             NaN                                     NaN  NaN  \n",
              "1                             NaN                                     NaN  NaN  \n",
              "2                             NaN                                     NaN  NaN  \n",
              "3                             NaN                                     NaN  NaN  \n",
              "4                             NaN                                     NaN  NaN  \n",
              "..                            ...                                     ...  ...  \n",
              "795                           NaN                                     NaN  NaN  \n",
              "796                           NaN                                     NaN  NaN  \n",
              "797                           NaN                                     NaN  NaN  \n",
              "798                           NaN                                     NaN  NaN  \n",
              "799                           NaN                                     NaN  NaN  \n",
              "\n",
              "[800 rows x 16 columns]"
            ],
            "text/html": [
              "\n",
              "  <div id=\"df-58d2ae09-2f93-4eb5-b106-65290872aa39\">\n",
              "    <div class=\"colab-df-container\">\n",
              "      <div>\n",
              "<style scoped>\n",
              "    .dataframe tbody tr th:only-of-type {\n",
              "        vertical-align: middle;\n",
              "    }\n",
              "\n",
              "    .dataframe tbody tr th {\n",
              "        vertical-align: top;\n",
              "    }\n",
              "\n",
              "    .dataframe thead th {\n",
              "        text-align: right;\n",
              "    }\n",
              "</style>\n",
              "<table border=\"1\" class=\"dataframe\">\n",
              "  <thead>\n",
              "    <tr style=\"text-align: right;\">\n",
              "      <th></th>\n",
              "      <th>0</th>\n",
              "      <th>\\n\\t\\t\\t\\t# of Exploits\\n\\t\\t\\t</th>\n",
              "      <th>\\n\\t\\t\\t\\tAccess\\n\\t\\t\\t</th>\n",
              "      <th>\\n\\t\\t\\t\\tAuthentication\\n\\t\\t\\t</th>\n",
              "      <th>\\n\\t\\t\\t\\tAvail.\\n\\t\\t\\t</th>\n",
              "      <th>\\n\\t\\t\\t\\tCVE ID\\n\\t\\t\\t</th>\n",
              "      <th>\\n\\t\\t\\t\\tCWE ID\\n\\t\\t\\t</th>\n",
              "      <th>\\n\\t\\t\\t\\tComplexity\\n\\t\\t\\t</th>\n",
              "      <th>\\n\\t\\t\\t\\tConf.\\n\\t\\t\\t</th>\n",
              "      <th>\\n\\t\\t\\t\\tGained Access Level\\n\\t\\t\\t</th>\n",
              "      <th>\\n\\t\\t\\t\\tInteg.\\n\\t\\t\\t</th>\n",
              "      <th>\\n\\t\\t\\t\\tPublish Date\\n\\t\\t\\t</th>\n",
              "      <th>\\n\\t\\t\\t\\tScore\\n\\t\\t\\t</th>\n",
              "      <th>\\n\\t\\t\\t\\tUpdate Date\\n\\t\\t\\t</th>\n",
              "      <th>\\n\\t\\t\\t\\tVulnerability Type(s)\\n\\t\\t\\t</th>\n",
              "      <th>#</th>\n",
              "    </tr>\n",
              "  </thead>\n",
              "  <tbody>\n",
              "    <tr>\n",
              "      <th>0</th>\n",
              "      <td>\\n \\n\\t\\t\\t\\t\\t\\t\\t\\t\\t\\t\\t1\\t\\t\\t\\t\\t</td>\n",
              "      <td>NaN</td>\n",
              "      <td>NaN</td>\n",
              "      <td>NaN</td>\n",
              "      <td>NaN</td>\n",
              "      <td>NaN</td>\n",
              "      <td>NaN</td>\n",
              "      <td>NaN</td>\n",
              "      <td>NaN</td>\n",
              "      <td>NaN</td>\n",
              "      <td>NaN</td>\n",
              "      <td>NaN</td>\n",
              "      <td>NaN</td>\n",
              "      <td>NaN</td>\n",
              "      <td>NaN</td>\n",
              "      <td>NaN</td>\n",
              "    </tr>\n",
              "    <tr>\n",
              "      <th>1</th>\n",
              "      <td>CVE-2022-20750</td>\n",
              "      <td>NaN</td>\n",
              "      <td>NaN</td>\n",
              "      <td>NaN</td>\n",
              "      <td>NaN</td>\n",
              "      <td>NaN</td>\n",
              "      <td>NaN</td>\n",
              "      <td>NaN</td>\n",
              "      <td>NaN</td>\n",
              "      <td>NaN</td>\n",
              "      <td>NaN</td>\n",
              "      <td>NaN</td>\n",
              "      <td>NaN</td>\n",
              "      <td>NaN</td>\n",
              "      <td>NaN</td>\n",
              "      <td>NaN</td>\n",
              "    </tr>\n",
              "    <tr>\n",
              "      <th>2</th>\n",
              "      <td>20</td>\n",
              "      <td>NaN</td>\n",
              "      <td>NaN</td>\n",
              "      <td>NaN</td>\n",
              "      <td>NaN</td>\n",
              "      <td>NaN</td>\n",
              "      <td>NaN</td>\n",
              "      <td>NaN</td>\n",
              "      <td>NaN</td>\n",
              "      <td>NaN</td>\n",
              "      <td>NaN</td>\n",
              "      <td>NaN</td>\n",
              "      <td>NaN</td>\n",
              "      <td>NaN</td>\n",
              "      <td>NaN</td>\n",
              "      <td>NaN</td>\n",
              "    </tr>\n",
              "    <tr>\n",
              "      <th>3</th>\n",
              "      <td>\\n\\n\\n</td>\n",
              "      <td>NaN</td>\n",
              "      <td>NaN</td>\n",
              "      <td>NaN</td>\n",
              "      <td>NaN</td>\n",
              "      <td>NaN</td>\n",
              "      <td>NaN</td>\n",
              "      <td>NaN</td>\n",
              "      <td>NaN</td>\n",
              "      <td>NaN</td>\n",
              "      <td>NaN</td>\n",
              "      <td>NaN</td>\n",
              "      <td>NaN</td>\n",
              "      <td>NaN</td>\n",
              "      <td>NaN</td>\n",
              "      <td>NaN</td>\n",
              "    </tr>\n",
              "    <tr>\n",
              "      <th>4</th>\n",
              "      <td>\\n\\t\\t\\t\\t\\t\\tDoS \\t\\t\\t\\t\\t</td>\n",
              "      <td>NaN</td>\n",
              "      <td>NaN</td>\n",
              "      <td>NaN</td>\n",
              "      <td>NaN</td>\n",
              "      <td>NaN</td>\n",
              "      <td>NaN</td>\n",
              "      <td>NaN</td>\n",
              "      <td>NaN</td>\n",
              "      <td>NaN</td>\n",
              "      <td>NaN</td>\n",
              "      <td>NaN</td>\n",
              "      <td>NaN</td>\n",
              "      <td>NaN</td>\n",
              "      <td>NaN</td>\n",
              "      <td>NaN</td>\n",
              "    </tr>\n",
              "    <tr>\n",
              "      <th>...</th>\n",
              "      <td>...</td>\n",
              "      <td>...</td>\n",
              "      <td>...</td>\n",
              "      <td>...</td>\n",
              "      <td>...</td>\n",
              "      <td>...</td>\n",
              "      <td>...</td>\n",
              "      <td>...</td>\n",
              "      <td>...</td>\n",
              "      <td>...</td>\n",
              "      <td>...</td>\n",
              "      <td>...</td>\n",
              "      <td>...</td>\n",
              "      <td>...</td>\n",
              "      <td>...</td>\n",
              "      <td>...</td>\n",
              "    </tr>\n",
              "    <tr>\n",
              "      <th>795</th>\n",
              "      <td>???</td>\n",
              "      <td>NaN</td>\n",
              "      <td>NaN</td>\n",
              "      <td>NaN</td>\n",
              "      <td>NaN</td>\n",
              "      <td>NaN</td>\n",
              "      <td>NaN</td>\n",
              "      <td>NaN</td>\n",
              "      <td>NaN</td>\n",
              "      <td>NaN</td>\n",
              "      <td>NaN</td>\n",
              "      <td>NaN</td>\n",
              "      <td>NaN</td>\n",
              "      <td>NaN</td>\n",
              "      <td>NaN</td>\n",
              "      <td>NaN</td>\n",
              "    </tr>\n",
              "    <tr>\n",
              "      <th>796</th>\n",
              "      <td>Partial</td>\n",
              "      <td>NaN</td>\n",
              "      <td>NaN</td>\n",
              "      <td>NaN</td>\n",
              "      <td>NaN</td>\n",
              "      <td>NaN</td>\n",
              "      <td>NaN</td>\n",
              "      <td>NaN</td>\n",
              "      <td>NaN</td>\n",
              "      <td>NaN</td>\n",
              "      <td>NaN</td>\n",
              "      <td>NaN</td>\n",
              "      <td>NaN</td>\n",
              "      <td>NaN</td>\n",
              "      <td>NaN</td>\n",
              "      <td>NaN</td>\n",
              "    </tr>\n",
              "    <tr>\n",
              "      <th>797</th>\n",
              "      <td>None</td>\n",
              "      <td>NaN</td>\n",
              "      <td>NaN</td>\n",
              "      <td>NaN</td>\n",
              "      <td>NaN</td>\n",
              "      <td>NaN</td>\n",
              "      <td>NaN</td>\n",
              "      <td>NaN</td>\n",
              "      <td>NaN</td>\n",
              "      <td>NaN</td>\n",
              "      <td>NaN</td>\n",
              "      <td>NaN</td>\n",
              "      <td>NaN</td>\n",
              "      <td>NaN</td>\n",
              "      <td>NaN</td>\n",
              "      <td>NaN</td>\n",
              "    </tr>\n",
              "    <tr>\n",
              "      <th>798</th>\n",
              "      <td>None</td>\n",
              "      <td>NaN</td>\n",
              "      <td>NaN</td>\n",
              "      <td>NaN</td>\n",
              "      <td>NaN</td>\n",
              "      <td>NaN</td>\n",
              "      <td>NaN</td>\n",
              "      <td>NaN</td>\n",
              "      <td>NaN</td>\n",
              "      <td>NaN</td>\n",
              "      <td>NaN</td>\n",
              "      <td>NaN</td>\n",
              "      <td>NaN</td>\n",
              "      <td>NaN</td>\n",
              "      <td>NaN</td>\n",
              "      <td>NaN</td>\n",
              "    </tr>\n",
              "    <tr>\n",
              "      <th>799</th>\n",
              "      <td>\\n\\t\\t\\t\\t\\t\\tA vulnerability in the API endpo...</td>\n",
              "      <td>NaN</td>\n",
              "      <td>NaN</td>\n",
              "      <td>NaN</td>\n",
              "      <td>NaN</td>\n",
              "      <td>NaN</td>\n",
              "      <td>NaN</td>\n",
              "      <td>NaN</td>\n",
              "      <td>NaN</td>\n",
              "      <td>NaN</td>\n",
              "      <td>NaN</td>\n",
              "      <td>NaN</td>\n",
              "      <td>NaN</td>\n",
              "      <td>NaN</td>\n",
              "      <td>NaN</td>\n",
              "      <td>NaN</td>\n",
              "    </tr>\n",
              "  </tbody>\n",
              "</table>\n",
              "<p>800 rows × 16 columns</p>\n",
              "</div>\n",
              "      <button class=\"colab-df-convert\" onclick=\"convertToInteractive('df-58d2ae09-2f93-4eb5-b106-65290872aa39')\"\n",
              "              title=\"Convert this dataframe to an interactive table.\"\n",
              "              style=\"display:none;\">\n",
              "        \n",
              "  <svg xmlns=\"http://www.w3.org/2000/svg\" height=\"24px\"viewBox=\"0 0 24 24\"\n",
              "       width=\"24px\">\n",
              "    <path d=\"M0 0h24v24H0V0z\" fill=\"none\"/>\n",
              "    <path d=\"M18.56 5.44l.94 2.06.94-2.06 2.06-.94-2.06-.94-.94-2.06-.94 2.06-2.06.94zm-11 1L8.5 8.5l.94-2.06 2.06-.94-2.06-.94L8.5 2.5l-.94 2.06-2.06.94zm10 10l.94 2.06.94-2.06 2.06-.94-2.06-.94-.94-2.06-.94 2.06-2.06.94z\"/><path d=\"M17.41 7.96l-1.37-1.37c-.4-.4-.92-.59-1.43-.59-.52 0-1.04.2-1.43.59L10.3 9.45l-7.72 7.72c-.78.78-.78 2.05 0 2.83L4 21.41c.39.39.9.59 1.41.59.51 0 1.02-.2 1.41-.59l7.78-7.78 2.81-2.81c.8-.78.8-2.07 0-2.86zM5.41 20L4 18.59l7.72-7.72 1.47 1.35L5.41 20z\"/>\n",
              "  </svg>\n",
              "      </button>\n",
              "      \n",
              "  <style>\n",
              "    .colab-df-container {\n",
              "      display:flex;\n",
              "      flex-wrap:wrap;\n",
              "      gap: 12px;\n",
              "    }\n",
              "\n",
              "    .colab-df-convert {\n",
              "      background-color: #E8F0FE;\n",
              "      border: none;\n",
              "      border-radius: 50%;\n",
              "      cursor: pointer;\n",
              "      display: none;\n",
              "      fill: #1967D2;\n",
              "      height: 32px;\n",
              "      padding: 0 0 0 0;\n",
              "      width: 32px;\n",
              "    }\n",
              "\n",
              "    .colab-df-convert:hover {\n",
              "      background-color: #E2EBFA;\n",
              "      box-shadow: 0px 1px 2px rgba(60, 64, 67, 0.3), 0px 1px 3px 1px rgba(60, 64, 67, 0.15);\n",
              "      fill: #174EA6;\n",
              "    }\n",
              "\n",
              "    [theme=dark] .colab-df-convert {\n",
              "      background-color: #3B4455;\n",
              "      fill: #D2E3FC;\n",
              "    }\n",
              "\n",
              "    [theme=dark] .colab-df-convert:hover {\n",
              "      background-color: #434B5C;\n",
              "      box-shadow: 0px 1px 3px 1px rgba(0, 0, 0, 0.15);\n",
              "      filter: drop-shadow(0px 1px 2px rgba(0, 0, 0, 0.3));\n",
              "      fill: #FFFFFF;\n",
              "    }\n",
              "  </style>\n",
              "\n",
              "      <script>\n",
              "        const buttonEl =\n",
              "          document.querySelector('#df-58d2ae09-2f93-4eb5-b106-65290872aa39 button.colab-df-convert');\n",
              "        buttonEl.style.display =\n",
              "          google.colab.kernel.accessAllowed ? 'block' : 'none';\n",
              "\n",
              "        async function convertToInteractive(key) {\n",
              "          const element = document.querySelector('#df-58d2ae09-2f93-4eb5-b106-65290872aa39');\n",
              "          const dataTable =\n",
              "            await google.colab.kernel.invokeFunction('convertToInteractive',\n",
              "                                                     [key], {});\n",
              "          if (!dataTable) return;\n",
              "\n",
              "          const docLinkHtml = 'Like what you see? Visit the ' +\n",
              "            '<a target=\"_blank\" href=https://colab.research.google.com/notebooks/data_table.ipynb>data table notebook</a>'\n",
              "            + ' to learn more about interactive tables.';\n",
              "          element.innerHTML = '';\n",
              "          dataTable['output_type'] = 'display_data';\n",
              "          await google.colab.output.renderOutput(dataTable, element);\n",
              "          const docLink = document.createElement('div');\n",
              "          docLink.innerHTML = docLinkHtml;\n",
              "          element.appendChild(docLink);\n",
              "        }\n",
              "      </script>\n",
              "    </div>\n",
              "  </div>\n",
              "  "
            ]
          },
          "metadata": {},
          "execution_count": 104
        }
      ]
    },
    {
      "cell_type": "code",
      "source": [
        "mydata[0]"
      ],
      "metadata": {
        "colab": {
          "base_uri": "https://localhost:8080/"
        },
        "id": "aO7D6lFnCL87",
        "outputId": "bb8ba0bc-5ff7-410f-e067-31848009c9fa"
      },
      "execution_count": 105,
      "outputs": [
        {
          "output_type": "execute_result",
          "data": {
            "text/plain": [
              "0                 \\n \\n\\t\\t\\t\\t\\t\\t\\t\\t\\t\\t\\t1\\t\\t\\t\\t\\t\n",
              "1                                         CVE-2022-20750\n",
              "2                                                     20\n",
              "3                                                 \\n\\n\\n\n",
              "4                           \\n\\t\\t\\t\\t\\t\\tDoS \\t\\t\\t\\t\\t\n",
              "                             ...                        \n",
              "795                                                  ???\n",
              "796                                              Partial\n",
              "797                                                 None\n",
              "798                                                 None\n",
              "799    \\n\\t\\t\\t\\t\\t\\tA vulnerability in the API endpo...\n",
              "Name: 0, Length: 800, dtype: object"
            ]
          },
          "metadata": {},
          "execution_count": 105
        }
      ]
    },
    {
      "cell_type": "code",
      "source": [
        ""
      ],
      "metadata": {
        "colab": {
          "base_uri": "https://localhost:8080/"
        },
        "id": "iJp-D5S5Cofl",
        "outputId": "3399a996-6bbd-4b87-c545-7485fb89d1f9"
      },
      "execution_count": 114,
      "outputs": [
        {
          "output_type": "execute_result",
          "data": {
            "text/plain": [
              "array([['\\n \\n\\t\\t\\t\\t\\t\\t\\t\\t\\t\\t\\t1\\t\\t\\t\\t\\t', nan, nan, ..., nan,\n",
              "        nan, nan],\n",
              "       ['CVE-2022-20750', nan, nan, ..., nan, nan, nan],\n",
              "       ['20', nan, nan, ..., nan, nan, nan],\n",
              "       ...,\n",
              "       ['None', nan, nan, ..., nan, nan, nan],\n",
              "       ['None', nan, nan, ..., nan, nan, nan],\n",
              "       ['\\n\\t\\t\\t\\t\\t\\tA vulnerability in the API endpoints for Cisco DNA Center could allow an authenticated, remote attacker to gain access to sensitive information that should be restricted. The attacker must have valid device credentials. This vulnerability is due to improper access controls on API endpoints. An attacker could exploit the vulnerability by sending a specific API request to an affected application. A successful exploit could allow the attacker to obtain sensitive information about other users who are configured with higher privileges on the application.\\t\\t\\t\\t\\t',\n",
              "        nan, nan, ..., nan, nan, nan]], dtype=object)"
            ]
          },
          "metadata": {},
          "execution_count": 114
        }
      ]
    }
  ]
}
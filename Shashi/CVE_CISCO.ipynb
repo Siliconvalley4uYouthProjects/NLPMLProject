{
  "nbformat": 4,
  "nbformat_minor": 0,
  "metadata": {
    "colab": {
      "name": "CVE_CISCO.ipynb",
      "provenance": [],
      "collapsed_sections": []
    },
    "kernelspec": {
      "name": "python3",
      "display_name": "Python 3"
    },
    "language_info": {
      "name": "python"
    }
  },
  "cells": [
    {
      "cell_type": "code",
      "execution_count": 1,
      "metadata": {
        "id": "_prHqKYaeMx5"
      },
      "outputs": [],
      "source": [
        "import requests\n",
        "from bs4 import BeautifulSoup\n",
        "import pandas as pd\n",
        "import csv\n",
        "import numpy as np"
      ]
    },
    {
      "cell_type": "code",
      "source": [
        "headers = dict()\n",
        "headers[\n",
        "    \"User-Agent\"\n",
        "] = \"Mozilla/5.0 (Windows NT 10.0; Win64; x64) AppleWebKit/537.36 (KHTML, like Gecko) Chrome/74.0.3729.169 Safari/537.36\""
      ],
      "metadata": {
        "id": "n-m3C0eqeR4d"
      },
      "execution_count": 2,
      "outputs": []
    },
    {
      "cell_type": "code",
      "source": [
        "url = f\"https://www.cvedetails.com/vulnerability-list.php?vendor_id=16&product_id=&version_id=&page=1&hasexp=0&opdos=0&opec=0&opov=0&opcsrf=0&opgpriv=0&opsqli=0&opxss=0&opdirt=0&opmemc=0&ophttprs=0&opbyp=0&opfileinc=0&opginf=0&cvssscoremin=0&cvssscoremax=0&year=0&month=0&cweid=0&order=1&trc=4159&sha=b6b9f0966b7dbca88b729e5b85a1f8fffc37d986\"\n"
      ],
      "metadata": {
        "id": "2Q3cy3bBViwl"
      },
      "execution_count": 3,
      "outputs": []
    },
    {
      "cell_type": "code",
      "source": [
        "#running code\n",
        "\n",
        "pages = np.arange(1, 84, 1)\n",
        "f_d = []\n",
        "f_d_new = []\n",
        "i=1\n",
        "for page in pages:\n",
        "  url = f\"https://www.cvedetails.com/vulnerability-list.php?vendor_id=16&product_id=&version_id=&page={page}&hasexp=0&opdos=0&opec=0&opov=0&opcsrf=0&opgpriv=0&opsqli=0&opxss=0&opdirt=0&opmemc=0&ophttprs=0&opbyp=0&opfileinc=0&opginf=0&cvssscoremin=0&cvssscoremax=0&year=0&month=0&cweid=0&order=1&trc=4159&sha=b6b9f0966b7dbca88b729e5b85a1f8fffc37d986\"\n",
        "    \n",
        "  headers = dict()\n",
        "  headers[\n",
        "    \"User-Agent\"\n",
        "  ] = \"Mozilla/5.0 (Windows NT 10.0; Win64; x64) AppleWebKit/537.36 (KHTML, like Gecko) Chrome/74.0.3729.169 Safari/537.36\"\n",
        "  results = requests.get(url, headers=headers)\n",
        "  soup = BeautifulSoup(results.text, \"html.parser\")\n",
        "  table1 = soup.find('table', class_=\"searchresults sortable\", id=\"vulnslisttable\")\n",
        "  headers = []\n",
        "  for i in table1.find_all('th'):\n",
        "        title = i.text\n",
        "        headers.append(title)\n",
        "  headers.append('\\n\\t\\t\\t\\tDesc.\\n\\t\\t\\t')\n",
        "  headers2 = []\n",
        "  for element in headers:\n",
        "    temp_str=\"\"\n",
        "    for char in element:\n",
        "        if char ==\"\\n\" or char==\"\\t\":\n",
        "            continue\n",
        "        temp_str+=char\n",
        "    headers2.append(temp_str)\n",
        "  print(headers2)\n",
        "\n",
        "\n",
        "\n",
        "  data1 = []\n",
        "  temp_row = []\n",
        "  count = 0\n",
        "  for j in table1.find_all('tr')[1:]: # need the data in this tag\n",
        "      count += 1\n",
        "      row_data = j.find_all('td')\n",
        "      row = [i.text for i in row_data]\n",
        "      if count % 2 != 0:\n",
        "         temp_row = []\n",
        "      temp_row += row\n",
        "      if count % 2 == 0:\n",
        "         details = []\n",
        "         for element in temp_row:\n",
        "             temp_str = \"\"\n",
        "             for char in element:\n",
        "                 if char == \"\\n\" or char == \"\\t\":\n",
        "                    continue\n",
        "                 temp_str += char\n",
        "             details.append(temp_str)\n",
        "         #print(details)\n",
        "         data1.append(details)\n",
        "         #f_d= pd.DataFrame(data1,columns = headers2)\n",
        "         #f_d_new=f_d+data1\n",
        "  f_d=f_d+data1\n",
        "  #f_d_new.append(f_d)\n",
        "f_d_new = f_d_new + f_d\n",
        "f_d_new= pd.DataFrame(f_d_new,columns = headers2)\n",
        "  #f_d_new=f_d\n",
        "f_d_new.to_csv('/content/sample_data/CVE_CISCO.csv', index = False)"
      ],
      "metadata": {
        "colab": {
          "base_uri": "https://localhost:8080/"
        },
        "id": "s4bwrox_3PDO",
        "outputId": "4fb85cd5-411a-4f11-e6eb-418a22521cf9"
      },
      "execution_count": 4,
      "outputs": [
        {
          "output_type": "stream",
          "name": "stdout",
          "text": [
            "['#', 'CVE ID', 'CWE ID', '# of Exploits', 'Vulnerability Type(s)', 'Publish Date', 'Update Date', 'Score', 'Gained Access Level', 'Access', 'Complexity', 'Authentication', 'Conf.', 'Integ.', 'Avail.', 'Desc.']\n",
            "['#', 'CVE ID', 'CWE ID', '# of Exploits', 'Vulnerability Type(s)', 'Publish Date', 'Update Date', 'Score', 'Gained Access Level', 'Access', 'Complexity', 'Authentication', 'Conf.', 'Integ.', 'Avail.', 'Desc.']\n",
            "['#', 'CVE ID', 'CWE ID', '# of Exploits', 'Vulnerability Type(s)', 'Publish Date', 'Update Date', 'Score', 'Gained Access Level', 'Access', 'Complexity', 'Authentication', 'Conf.', 'Integ.', 'Avail.', 'Desc.']\n",
            "['#', 'CVE ID', 'CWE ID', '# of Exploits', 'Vulnerability Type(s)', 'Publish Date', 'Update Date', 'Score', 'Gained Access Level', 'Access', 'Complexity', 'Authentication', 'Conf.', 'Integ.', 'Avail.', 'Desc.']\n",
            "['#', 'CVE ID', 'CWE ID', '# of Exploits', 'Vulnerability Type(s)', 'Publish Date', 'Update Date', 'Score', 'Gained Access Level', 'Access', 'Complexity', 'Authentication', 'Conf.', 'Integ.', 'Avail.', 'Desc.']\n",
            "['#', 'CVE ID', 'CWE ID', '# of Exploits', 'Vulnerability Type(s)', 'Publish Date', 'Update Date', 'Score', 'Gained Access Level', 'Access', 'Complexity', 'Authentication', 'Conf.', 'Integ.', 'Avail.', 'Desc.']\n",
            "['#', 'CVE ID', 'CWE ID', '# of Exploits', 'Vulnerability Type(s)', 'Publish Date', 'Update Date', 'Score', 'Gained Access Level', 'Access', 'Complexity', 'Authentication', 'Conf.', 'Integ.', 'Avail.', 'Desc.']\n",
            "['#', 'CVE ID', 'CWE ID', '# of Exploits', 'Vulnerability Type(s)', 'Publish Date', 'Update Date', 'Score', 'Gained Access Level', 'Access', 'Complexity', 'Authentication', 'Conf.', 'Integ.', 'Avail.', 'Desc.']\n",
            "['#', 'CVE ID', 'CWE ID', '# of Exploits', 'Vulnerability Type(s)', 'Publish Date', 'Update Date', 'Score', 'Gained Access Level', 'Access', 'Complexity', 'Authentication', 'Conf.', 'Integ.', 'Avail.', 'Desc.']\n",
            "['#', 'CVE ID', 'CWE ID', '# of Exploits', 'Vulnerability Type(s)', 'Publish Date', 'Update Date', 'Score', 'Gained Access Level', 'Access', 'Complexity', 'Authentication', 'Conf.', 'Integ.', 'Avail.', 'Desc.']\n",
            "['#', 'CVE ID', 'CWE ID', '# of Exploits', 'Vulnerability Type(s)', 'Publish Date', 'Update Date', 'Score', 'Gained Access Level', 'Access', 'Complexity', 'Authentication', 'Conf.', 'Integ.', 'Avail.', 'Desc.']\n",
            "['#', 'CVE ID', 'CWE ID', '# of Exploits', 'Vulnerability Type(s)', 'Publish Date', 'Update Date', 'Score', 'Gained Access Level', 'Access', 'Complexity', 'Authentication', 'Conf.', 'Integ.', 'Avail.', 'Desc.']\n",
            "['#', 'CVE ID', 'CWE ID', '# of Exploits', 'Vulnerability Type(s)', 'Publish Date', 'Update Date', 'Score', 'Gained Access Level', 'Access', 'Complexity', 'Authentication', 'Conf.', 'Integ.', 'Avail.', 'Desc.']\n",
            "['#', 'CVE ID', 'CWE ID', '# of Exploits', 'Vulnerability Type(s)', 'Publish Date', 'Update Date', 'Score', 'Gained Access Level', 'Access', 'Complexity', 'Authentication', 'Conf.', 'Integ.', 'Avail.', 'Desc.']\n",
            "['#', 'CVE ID', 'CWE ID', '# of Exploits', 'Vulnerability Type(s)', 'Publish Date', 'Update Date', 'Score', 'Gained Access Level', 'Access', 'Complexity', 'Authentication', 'Conf.', 'Integ.', 'Avail.', 'Desc.']\n",
            "['#', 'CVE ID', 'CWE ID', '# of Exploits', 'Vulnerability Type(s)', 'Publish Date', 'Update Date', 'Score', 'Gained Access Level', 'Access', 'Complexity', 'Authentication', 'Conf.', 'Integ.', 'Avail.', 'Desc.']\n",
            "['#', 'CVE ID', 'CWE ID', '# of Exploits', 'Vulnerability Type(s)', 'Publish Date', 'Update Date', 'Score', 'Gained Access Level', 'Access', 'Complexity', 'Authentication', 'Conf.', 'Integ.', 'Avail.', 'Desc.']\n",
            "['#', 'CVE ID', 'CWE ID', '# of Exploits', 'Vulnerability Type(s)', 'Publish Date', 'Update Date', 'Score', 'Gained Access Level', 'Access', 'Complexity', 'Authentication', 'Conf.', 'Integ.', 'Avail.', 'Desc.']\n",
            "['#', 'CVE ID', 'CWE ID', '# of Exploits', 'Vulnerability Type(s)', 'Publish Date', 'Update Date', 'Score', 'Gained Access Level', 'Access', 'Complexity', 'Authentication', 'Conf.', 'Integ.', 'Avail.', 'Desc.']\n",
            "['#', 'CVE ID', 'CWE ID', '# of Exploits', 'Vulnerability Type(s)', 'Publish Date', 'Update Date', 'Score', 'Gained Access Level', 'Access', 'Complexity', 'Authentication', 'Conf.', 'Integ.', 'Avail.', 'Desc.']\n",
            "['#', 'CVE ID', 'CWE ID', '# of Exploits', 'Vulnerability Type(s)', 'Publish Date', 'Update Date', 'Score', 'Gained Access Level', 'Access', 'Complexity', 'Authentication', 'Conf.', 'Integ.', 'Avail.', 'Desc.']\n",
            "['#', 'CVE ID', 'CWE ID', '# of Exploits', 'Vulnerability Type(s)', 'Publish Date', 'Update Date', 'Score', 'Gained Access Level', 'Access', 'Complexity', 'Authentication', 'Conf.', 'Integ.', 'Avail.', 'Desc.']\n",
            "['#', 'CVE ID', 'CWE ID', '# of Exploits', 'Vulnerability Type(s)', 'Publish Date', 'Update Date', 'Score', 'Gained Access Level', 'Access', 'Complexity', 'Authentication', 'Conf.', 'Integ.', 'Avail.', 'Desc.']\n",
            "['#', 'CVE ID', 'CWE ID', '# of Exploits', 'Vulnerability Type(s)', 'Publish Date', 'Update Date', 'Score', 'Gained Access Level', 'Access', 'Complexity', 'Authentication', 'Conf.', 'Integ.', 'Avail.', 'Desc.']\n",
            "['#', 'CVE ID', 'CWE ID', '# of Exploits', 'Vulnerability Type(s)', 'Publish Date', 'Update Date', 'Score', 'Gained Access Level', 'Access', 'Complexity', 'Authentication', 'Conf.', 'Integ.', 'Avail.', 'Desc.']\n",
            "['#', 'CVE ID', 'CWE ID', '# of Exploits', 'Vulnerability Type(s)', 'Publish Date', 'Update Date', 'Score', 'Gained Access Level', 'Access', 'Complexity', 'Authentication', 'Conf.', 'Integ.', 'Avail.', 'Desc.']\n",
            "['#', 'CVE ID', 'CWE ID', '# of Exploits', 'Vulnerability Type(s)', 'Publish Date', 'Update Date', 'Score', 'Gained Access Level', 'Access', 'Complexity', 'Authentication', 'Conf.', 'Integ.', 'Avail.', 'Desc.']\n",
            "['#', 'CVE ID', 'CWE ID', '# of Exploits', 'Vulnerability Type(s)', 'Publish Date', 'Update Date', 'Score', 'Gained Access Level', 'Access', 'Complexity', 'Authentication', 'Conf.', 'Integ.', 'Avail.', 'Desc.']\n",
            "['#', 'CVE ID', 'CWE ID', '# of Exploits', 'Vulnerability Type(s)', 'Publish Date', 'Update Date', 'Score', 'Gained Access Level', 'Access', 'Complexity', 'Authentication', 'Conf.', 'Integ.', 'Avail.', 'Desc.']\n",
            "['#', 'CVE ID', 'CWE ID', '# of Exploits', 'Vulnerability Type(s)', 'Publish Date', 'Update Date', 'Score', 'Gained Access Level', 'Access', 'Complexity', 'Authentication', 'Conf.', 'Integ.', 'Avail.', 'Desc.']\n",
            "['#', 'CVE ID', 'CWE ID', '# of Exploits', 'Vulnerability Type(s)', 'Publish Date', 'Update Date', 'Score', 'Gained Access Level', 'Access', 'Complexity', 'Authentication', 'Conf.', 'Integ.', 'Avail.', 'Desc.']\n",
            "['#', 'CVE ID', 'CWE ID', '# of Exploits', 'Vulnerability Type(s)', 'Publish Date', 'Update Date', 'Score', 'Gained Access Level', 'Access', 'Complexity', 'Authentication', 'Conf.', 'Integ.', 'Avail.', 'Desc.']\n",
            "['#', 'CVE ID', 'CWE ID', '# of Exploits', 'Vulnerability Type(s)', 'Publish Date', 'Update Date', 'Score', 'Gained Access Level', 'Access', 'Complexity', 'Authentication', 'Conf.', 'Integ.', 'Avail.', 'Desc.']\n",
            "['#', 'CVE ID', 'CWE ID', '# of Exploits', 'Vulnerability Type(s)', 'Publish Date', 'Update Date', 'Score', 'Gained Access Level', 'Access', 'Complexity', 'Authentication', 'Conf.', 'Integ.', 'Avail.', 'Desc.']\n",
            "['#', 'CVE ID', 'CWE ID', '# of Exploits', 'Vulnerability Type(s)', 'Publish Date', 'Update Date', 'Score', 'Gained Access Level', 'Access', 'Complexity', 'Authentication', 'Conf.', 'Integ.', 'Avail.', 'Desc.']\n",
            "['#', 'CVE ID', 'CWE ID', '# of Exploits', 'Vulnerability Type(s)', 'Publish Date', 'Update Date', 'Score', 'Gained Access Level', 'Access', 'Complexity', 'Authentication', 'Conf.', 'Integ.', 'Avail.', 'Desc.']\n",
            "['#', 'CVE ID', 'CWE ID', '# of Exploits', 'Vulnerability Type(s)', 'Publish Date', 'Update Date', 'Score', 'Gained Access Level', 'Access', 'Complexity', 'Authentication', 'Conf.', 'Integ.', 'Avail.', 'Desc.']\n",
            "['#', 'CVE ID', 'CWE ID', '# of Exploits', 'Vulnerability Type(s)', 'Publish Date', 'Update Date', 'Score', 'Gained Access Level', 'Access', 'Complexity', 'Authentication', 'Conf.', 'Integ.', 'Avail.', 'Desc.']\n",
            "['#', 'CVE ID', 'CWE ID', '# of Exploits', 'Vulnerability Type(s)', 'Publish Date', 'Update Date', 'Score', 'Gained Access Level', 'Access', 'Complexity', 'Authentication', 'Conf.', 'Integ.', 'Avail.', 'Desc.']\n",
            "['#', 'CVE ID', 'CWE ID', '# of Exploits', 'Vulnerability Type(s)', 'Publish Date', 'Update Date', 'Score', 'Gained Access Level', 'Access', 'Complexity', 'Authentication', 'Conf.', 'Integ.', 'Avail.', 'Desc.']\n",
            "['#', 'CVE ID', 'CWE ID', '# of Exploits', 'Vulnerability Type(s)', 'Publish Date', 'Update Date', 'Score', 'Gained Access Level', 'Access', 'Complexity', 'Authentication', 'Conf.', 'Integ.', 'Avail.', 'Desc.']\n",
            "['#', 'CVE ID', 'CWE ID', '# of Exploits', 'Vulnerability Type(s)', 'Publish Date', 'Update Date', 'Score', 'Gained Access Level', 'Access', 'Complexity', 'Authentication', 'Conf.', 'Integ.', 'Avail.', 'Desc.']\n",
            "['#', 'CVE ID', 'CWE ID', '# of Exploits', 'Vulnerability Type(s)', 'Publish Date', 'Update Date', 'Score', 'Gained Access Level', 'Access', 'Complexity', 'Authentication', 'Conf.', 'Integ.', 'Avail.', 'Desc.']\n",
            "['#', 'CVE ID', 'CWE ID', '# of Exploits', 'Vulnerability Type(s)', 'Publish Date', 'Update Date', 'Score', 'Gained Access Level', 'Access', 'Complexity', 'Authentication', 'Conf.', 'Integ.', 'Avail.', 'Desc.']\n",
            "['#', 'CVE ID', 'CWE ID', '# of Exploits', 'Vulnerability Type(s)', 'Publish Date', 'Update Date', 'Score', 'Gained Access Level', 'Access', 'Complexity', 'Authentication', 'Conf.', 'Integ.', 'Avail.', 'Desc.']\n",
            "['#', 'CVE ID', 'CWE ID', '# of Exploits', 'Vulnerability Type(s)', 'Publish Date', 'Update Date', 'Score', 'Gained Access Level', 'Access', 'Complexity', 'Authentication', 'Conf.', 'Integ.', 'Avail.', 'Desc.']\n",
            "['#', 'CVE ID', 'CWE ID', '# of Exploits', 'Vulnerability Type(s)', 'Publish Date', 'Update Date', 'Score', 'Gained Access Level', 'Access', 'Complexity', 'Authentication', 'Conf.', 'Integ.', 'Avail.', 'Desc.']\n",
            "['#', 'CVE ID', 'CWE ID', '# of Exploits', 'Vulnerability Type(s)', 'Publish Date', 'Update Date', 'Score', 'Gained Access Level', 'Access', 'Complexity', 'Authentication', 'Conf.', 'Integ.', 'Avail.', 'Desc.']\n",
            "['#', 'CVE ID', 'CWE ID', '# of Exploits', 'Vulnerability Type(s)', 'Publish Date', 'Update Date', 'Score', 'Gained Access Level', 'Access', 'Complexity', 'Authentication', 'Conf.', 'Integ.', 'Avail.', 'Desc.']\n",
            "['#', 'CVE ID', 'CWE ID', '# of Exploits', 'Vulnerability Type(s)', 'Publish Date', 'Update Date', 'Score', 'Gained Access Level', 'Access', 'Complexity', 'Authentication', 'Conf.', 'Integ.', 'Avail.', 'Desc.']\n",
            "['#', 'CVE ID', 'CWE ID', '# of Exploits', 'Vulnerability Type(s)', 'Publish Date', 'Update Date', 'Score', 'Gained Access Level', 'Access', 'Complexity', 'Authentication', 'Conf.', 'Integ.', 'Avail.', 'Desc.']\n",
            "['#', 'CVE ID', 'CWE ID', '# of Exploits', 'Vulnerability Type(s)', 'Publish Date', 'Update Date', 'Score', 'Gained Access Level', 'Access', 'Complexity', 'Authentication', 'Conf.', 'Integ.', 'Avail.', 'Desc.']\n",
            "['#', 'CVE ID', 'CWE ID', '# of Exploits', 'Vulnerability Type(s)', 'Publish Date', 'Update Date', 'Score', 'Gained Access Level', 'Access', 'Complexity', 'Authentication', 'Conf.', 'Integ.', 'Avail.', 'Desc.']\n",
            "['#', 'CVE ID', 'CWE ID', '# of Exploits', 'Vulnerability Type(s)', 'Publish Date', 'Update Date', 'Score', 'Gained Access Level', 'Access', 'Complexity', 'Authentication', 'Conf.', 'Integ.', 'Avail.', 'Desc.']\n",
            "['#', 'CVE ID', 'CWE ID', '# of Exploits', 'Vulnerability Type(s)', 'Publish Date', 'Update Date', 'Score', 'Gained Access Level', 'Access', 'Complexity', 'Authentication', 'Conf.', 'Integ.', 'Avail.', 'Desc.']\n",
            "['#', 'CVE ID', 'CWE ID', '# of Exploits', 'Vulnerability Type(s)', 'Publish Date', 'Update Date', 'Score', 'Gained Access Level', 'Access', 'Complexity', 'Authentication', 'Conf.', 'Integ.', 'Avail.', 'Desc.']\n",
            "['#', 'CVE ID', 'CWE ID', '# of Exploits', 'Vulnerability Type(s)', 'Publish Date', 'Update Date', 'Score', 'Gained Access Level', 'Access', 'Complexity', 'Authentication', 'Conf.', 'Integ.', 'Avail.', 'Desc.']\n",
            "['#', 'CVE ID', 'CWE ID', '# of Exploits', 'Vulnerability Type(s)', 'Publish Date', 'Update Date', 'Score', 'Gained Access Level', 'Access', 'Complexity', 'Authentication', 'Conf.', 'Integ.', 'Avail.', 'Desc.']\n",
            "['#', 'CVE ID', 'CWE ID', '# of Exploits', 'Vulnerability Type(s)', 'Publish Date', 'Update Date', 'Score', 'Gained Access Level', 'Access', 'Complexity', 'Authentication', 'Conf.', 'Integ.', 'Avail.', 'Desc.']\n",
            "['#', 'CVE ID', 'CWE ID', '# of Exploits', 'Vulnerability Type(s)', 'Publish Date', 'Update Date', 'Score', 'Gained Access Level', 'Access', 'Complexity', 'Authentication', 'Conf.', 'Integ.', 'Avail.', 'Desc.']\n",
            "['#', 'CVE ID', 'CWE ID', '# of Exploits', 'Vulnerability Type(s)', 'Publish Date', 'Update Date', 'Score', 'Gained Access Level', 'Access', 'Complexity', 'Authentication', 'Conf.', 'Integ.', 'Avail.', 'Desc.']\n",
            "['#', 'CVE ID', 'CWE ID', '# of Exploits', 'Vulnerability Type(s)', 'Publish Date', 'Update Date', 'Score', 'Gained Access Level', 'Access', 'Complexity', 'Authentication', 'Conf.', 'Integ.', 'Avail.', 'Desc.']\n",
            "['#', 'CVE ID', 'CWE ID', '# of Exploits', 'Vulnerability Type(s)', 'Publish Date', 'Update Date', 'Score', 'Gained Access Level', 'Access', 'Complexity', 'Authentication', 'Conf.', 'Integ.', 'Avail.', 'Desc.']\n",
            "['#', 'CVE ID', 'CWE ID', '# of Exploits', 'Vulnerability Type(s)', 'Publish Date', 'Update Date', 'Score', 'Gained Access Level', 'Access', 'Complexity', 'Authentication', 'Conf.', 'Integ.', 'Avail.', 'Desc.']\n",
            "['#', 'CVE ID', 'CWE ID', '# of Exploits', 'Vulnerability Type(s)', 'Publish Date', 'Update Date', 'Score', 'Gained Access Level', 'Access', 'Complexity', 'Authentication', 'Conf.', 'Integ.', 'Avail.', 'Desc.']\n",
            "['#', 'CVE ID', 'CWE ID', '# of Exploits', 'Vulnerability Type(s)', 'Publish Date', 'Update Date', 'Score', 'Gained Access Level', 'Access', 'Complexity', 'Authentication', 'Conf.', 'Integ.', 'Avail.', 'Desc.']\n",
            "['#', 'CVE ID', 'CWE ID', '# of Exploits', 'Vulnerability Type(s)', 'Publish Date', 'Update Date', 'Score', 'Gained Access Level', 'Access', 'Complexity', 'Authentication', 'Conf.', 'Integ.', 'Avail.', 'Desc.']\n",
            "['#', 'CVE ID', 'CWE ID', '# of Exploits', 'Vulnerability Type(s)', 'Publish Date', 'Update Date', 'Score', 'Gained Access Level', 'Access', 'Complexity', 'Authentication', 'Conf.', 'Integ.', 'Avail.', 'Desc.']\n",
            "['#', 'CVE ID', 'CWE ID', '# of Exploits', 'Vulnerability Type(s)', 'Publish Date', 'Update Date', 'Score', 'Gained Access Level', 'Access', 'Complexity', 'Authentication', 'Conf.', 'Integ.', 'Avail.', 'Desc.']\n",
            "['#', 'CVE ID', 'CWE ID', '# of Exploits', 'Vulnerability Type(s)', 'Publish Date', 'Update Date', 'Score', 'Gained Access Level', 'Access', 'Complexity', 'Authentication', 'Conf.', 'Integ.', 'Avail.', 'Desc.']\n",
            "['#', 'CVE ID', 'CWE ID', '# of Exploits', 'Vulnerability Type(s)', 'Publish Date', 'Update Date', 'Score', 'Gained Access Level', 'Access', 'Complexity', 'Authentication', 'Conf.', 'Integ.', 'Avail.', 'Desc.']\n",
            "['#', 'CVE ID', 'CWE ID', '# of Exploits', 'Vulnerability Type(s)', 'Publish Date', 'Update Date', 'Score', 'Gained Access Level', 'Access', 'Complexity', 'Authentication', 'Conf.', 'Integ.', 'Avail.', 'Desc.']\n",
            "['#', 'CVE ID', 'CWE ID', '# of Exploits', 'Vulnerability Type(s)', 'Publish Date', 'Update Date', 'Score', 'Gained Access Level', 'Access', 'Complexity', 'Authentication', 'Conf.', 'Integ.', 'Avail.', 'Desc.']\n",
            "['#', 'CVE ID', 'CWE ID', '# of Exploits', 'Vulnerability Type(s)', 'Publish Date', 'Update Date', 'Score', 'Gained Access Level', 'Access', 'Complexity', 'Authentication', 'Conf.', 'Integ.', 'Avail.', 'Desc.']\n",
            "['#', 'CVE ID', 'CWE ID', '# of Exploits', 'Vulnerability Type(s)', 'Publish Date', 'Update Date', 'Score', 'Gained Access Level', 'Access', 'Complexity', 'Authentication', 'Conf.', 'Integ.', 'Avail.', 'Desc.']\n",
            "['#', 'CVE ID', 'CWE ID', '# of Exploits', 'Vulnerability Type(s)', 'Publish Date', 'Update Date', 'Score', 'Gained Access Level', 'Access', 'Complexity', 'Authentication', 'Conf.', 'Integ.', 'Avail.', 'Desc.']\n",
            "['#', 'CVE ID', 'CWE ID', '# of Exploits', 'Vulnerability Type(s)', 'Publish Date', 'Update Date', 'Score', 'Gained Access Level', 'Access', 'Complexity', 'Authentication', 'Conf.', 'Integ.', 'Avail.', 'Desc.']\n",
            "['#', 'CVE ID', 'CWE ID', '# of Exploits', 'Vulnerability Type(s)', 'Publish Date', 'Update Date', 'Score', 'Gained Access Level', 'Access', 'Complexity', 'Authentication', 'Conf.', 'Integ.', 'Avail.', 'Desc.']\n",
            "['#', 'CVE ID', 'CWE ID', '# of Exploits', 'Vulnerability Type(s)', 'Publish Date', 'Update Date', 'Score', 'Gained Access Level', 'Access', 'Complexity', 'Authentication', 'Conf.', 'Integ.', 'Avail.', 'Desc.']\n",
            "['#', 'CVE ID', 'CWE ID', '# of Exploits', 'Vulnerability Type(s)', 'Publish Date', 'Update Date', 'Score', 'Gained Access Level', 'Access', 'Complexity', 'Authentication', 'Conf.', 'Integ.', 'Avail.', 'Desc.']\n",
            "['#', 'CVE ID', 'CWE ID', '# of Exploits', 'Vulnerability Type(s)', 'Publish Date', 'Update Date', 'Score', 'Gained Access Level', 'Access', 'Complexity', 'Authentication', 'Conf.', 'Integ.', 'Avail.', 'Desc.']\n",
            "['#', 'CVE ID', 'CWE ID', '# of Exploits', 'Vulnerability Type(s)', 'Publish Date', 'Update Date', 'Score', 'Gained Access Level', 'Access', 'Complexity', 'Authentication', 'Conf.', 'Integ.', 'Avail.', 'Desc.']\n",
            "['#', 'CVE ID', 'CWE ID', '# of Exploits', 'Vulnerability Type(s)', 'Publish Date', 'Update Date', 'Score', 'Gained Access Level', 'Access', 'Complexity', 'Authentication', 'Conf.', 'Integ.', 'Avail.', 'Desc.']\n"
          ]
        }
      ]
    }
  ]
}
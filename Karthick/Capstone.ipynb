{
 "cells": [
  {
   "cell_type": "code",
   "execution_count": null,
   "metadata": {
    "colab": {
     "base_uri": "https://localhost:8080/"
    },
    "id": "dmcWaAnynSdy",
    "outputId": "d2939191-1991-4730-f6f9-eb01ae20c678"
   },
   "outputs": [
    {
     "name": "stdout",
     "output_type": "stream",
     "text": [
      "Collecting pyLDAvis\n",
      "  Downloading pyLDAvis-3.3.1.tar.gz (1.7 MB)\n",
      "\u001b[K     |████████████████████████████████| 1.7 MB 2.7 MB/s \n",
      "\u001b[?25h  Installing build dependencies ... \u001b[?25l\u001b[?25hdone\n",
      "  Getting requirements to build wheel ... \u001b[?25l\u001b[?25hdone\n",
      "  Installing backend dependencies ... \u001b[?25l\u001b[?25hdone\n",
      "    Preparing wheel metadata ... \u001b[?25l\u001b[?25hdone\n",
      "Requirement already satisfied: numexpr in /usr/local/lib/python3.7/dist-packages (from pyLDAvis) (2.8.1)\n",
      "Collecting funcy\n",
      "  Downloading funcy-1.17-py2.py3-none-any.whl (33 kB)\n",
      "Requirement already satisfied: sklearn in /usr/local/lib/python3.7/dist-packages (from pyLDAvis) (0.0)\n",
      "Requirement already satisfied: future in /usr/local/lib/python3.7/dist-packages (from pyLDAvis) (0.16.0)\n",
      "Requirement already satisfied: scipy in /usr/local/lib/python3.7/dist-packages (from pyLDAvis) (1.4.1)\n",
      "Requirement already satisfied: setuptools in /usr/local/lib/python3.7/dist-packages (from pyLDAvis) (57.4.0)\n",
      "Requirement already satisfied: joblib in /usr/local/lib/python3.7/dist-packages (from pyLDAvis) (1.1.0)\n",
      "Requirement already satisfied: jinja2 in /usr/local/lib/python3.7/dist-packages (from pyLDAvis) (2.11.3)\n",
      "Requirement already satisfied: gensim in /usr/local/lib/python3.7/dist-packages (from pyLDAvis) (3.6.0)\n",
      "Requirement already satisfied: scikit-learn in /usr/local/lib/python3.7/dist-packages (from pyLDAvis) (1.0.2)\n",
      "Requirement already satisfied: numpy>=1.20.0 in /usr/local/lib/python3.7/dist-packages (from pyLDAvis) (1.21.5)\n",
      "Requirement already satisfied: pandas>=1.2.0 in /usr/local/lib/python3.7/dist-packages (from pyLDAvis) (1.3.5)\n",
      "Requirement already satisfied: pytz>=2017.3 in /usr/local/lib/python3.7/dist-packages (from pandas>=1.2.0->pyLDAvis) (2018.9)\n",
      "Requirement already satisfied: python-dateutil>=2.7.3 in /usr/local/lib/python3.7/dist-packages (from pandas>=1.2.0->pyLDAvis) (2.8.2)\n",
      "Requirement already satisfied: six>=1.5 in /usr/local/lib/python3.7/dist-packages (from python-dateutil>=2.7.3->pandas>=1.2.0->pyLDAvis) (1.15.0)\n",
      "Requirement already satisfied: smart-open>=1.2.1 in /usr/local/lib/python3.7/dist-packages (from gensim->pyLDAvis) (5.2.1)\n",
      "Requirement already satisfied: MarkupSafe>=0.23 in /usr/local/lib/python3.7/dist-packages (from jinja2->pyLDAvis) (2.0.1)\n",
      "Requirement already satisfied: packaging in /usr/local/lib/python3.7/dist-packages (from numexpr->pyLDAvis) (21.3)\n",
      "Requirement already satisfied: pyparsing!=3.0.5,>=2.0.2 in /usr/local/lib/python3.7/dist-packages (from packaging->numexpr->pyLDAvis) (3.0.7)\n",
      "Requirement already satisfied: threadpoolctl>=2.0.0 in /usr/local/lib/python3.7/dist-packages (from scikit-learn->pyLDAvis) (3.1.0)\n",
      "Building wheels for collected packages: pyLDAvis\n",
      "  Building wheel for pyLDAvis (PEP 517) ... \u001b[?25l\u001b[?25hdone\n",
      "  Created wheel for pyLDAvis: filename=pyLDAvis-3.3.1-py2.py3-none-any.whl size=136898 sha256=adf0b4885329da62e9b7fe97ed4865496d541f110f3b1eccfc2644198f41d7c8\n",
      "  Stored in directory: /root/.cache/pip/wheels/c9/21/f6/17bcf2667e8a68532ba2fbf6d5c72fdf4c7f7d9abfa4852d2f\n",
      "Successfully built pyLDAvis\n",
      "Installing collected packages: funcy, pyLDAvis\n",
      "Successfully installed funcy-1.17 pyLDAvis-3.3.1\n"
     ]
    }
   ],
   "source": [
    "!pip install pyLDAvis"
   ]
  },
  {
   "cell_type": "code",
   "execution_count": null,
   "metadata": {
    "colab": {
     "base_uri": "https://localhost:8080/"
    },
    "id": "xuAu5rPGEbE5",
    "outputId": "49a8ad5d-20a0-4340-8113-2eb35799ec71"
   },
   "outputs": [
    {
     "name": "stdout",
     "output_type": "stream",
     "text": [
      "Requirement already satisfied: gensim in /usr/local/lib/python3.7/dist-packages (3.6.0)\n",
      "Requirement already satisfied: scipy>=0.18.1 in /usr/local/lib/python3.7/dist-packages (from gensim) (1.4.1)\n",
      "Requirement already satisfied: six>=1.5.0 in /usr/local/lib/python3.7/dist-packages (from gensim) (1.15.0)\n",
      "Requirement already satisfied: smart-open>=1.2.1 in /usr/local/lib/python3.7/dist-packages (from gensim) (5.2.1)\n",
      "Requirement already satisfied: numpy>=1.11.3 in /usr/local/lib/python3.7/dist-packages (from gensim) (1.21.5)\n"
     ]
    }
   ],
   "source": [
    "!pip install gensim"
   ]
  },
  {
   "cell_type": "code",
   "execution_count": null,
   "metadata": {
    "colab": {
     "base_uri": "https://localhost:8080/"
    },
    "id": "BLsrJGpam_TM",
    "outputId": "ab5a94d4-7843-4266-e732-aea76f827387"
   },
   "outputs": [
    {
     "name": "stdout",
     "output_type": "stream",
     "text": [
      "[nltk_data] Downloading package wordnet to /root/nltk_data...\n",
      "[nltk_data]   Unzipping corpora/wordnet.zip.\n",
      "[nltk_data] Downloading package stopwords to /root/nltk_data...\n",
      "[nltk_data]   Unzipping corpora/stopwords.zip.\n"
     ]
    },
    {
     "name": "stderr",
     "output_type": "stream",
     "text": [
      "/usr/local/lib/python3.7/dist-packages/past/types/oldstr.py:5: DeprecationWarning: Using or importing the ABCs from 'collections' instead of from 'collections.abc' is deprecated since Python 3.3,and in 3.9 it will stop working\n",
      "  from collections import Iterable\n"
     ]
    }
   ],
   "source": [
    "#Basic Libararies\n",
    "import numpy as np\n",
    "import pandas as pd\n",
    "import matplotlib.pyplot as plt\n",
    "import seaborn as sns\n",
    "from itertools import cycle, islice\n",
    "import string\n",
    "import re\n",
    "\n",
    "#Tensorflow, sklearn and nltk\n",
    "import tensorflow as tf\n",
    "import nltk\n",
    "nltk.download('wordnet')\n",
    "nltk.download('stopwords')\n",
    "#!pip install unidecode\n",
    "#import unidecode\n",
    "from nltk.stem.porter import PorterStemmer\n",
    "from nltk.stem import WordNetLemmatizer\n",
    "from nltk.corpus import stopwords\n",
    "from tensorflow.keras.layers import TextVectorization\n",
    "from sklearn.metrics import accuracy_score, precision_score, recall_score, f1_score, confusion_matrix\n",
    "from tensorflow.keras.models import Sequential, Model\n",
    "from tensorflow.keras.layers import Embedding, LSTM, Dense, Flatten, Dropout, MaxPool2D, GlobalAvgPool2D, GlobalMaxPool2D\n",
    "from tensorflow.keras.layers import GlobalAvgPool1D, GlobalMaxPool1D\n",
    "from sklearn.model_selection import train_test_split\n",
    "#!pip install tensorflow-addons\n",
    "#import tensorflow_addons as tfa\n",
    "\n",
    "#WordCloud\n",
    "from wordcloud import WordCloud\n",
    "\n",
    "#gensim\n",
    "import gensim\n",
    "import gensim.corpora as corpora\n",
    "from gensim.utils import simple_preprocess\n",
    "from gensim.models import CoherenceModel\n",
    "\n",
    "#Spacy\n",
    "import spacy\n",
    "\n",
    "#Vis\n",
    "import pyLDAvis\n",
    "import pyLDAvis.gensim_models as gensimvis\n",
    "pyLDAvis.enable_notebook()\n",
    "\n",
    "#warnings\n",
    "import warnings\n",
    "warnings.filterwarnings(\"ignore\")"
   ]
  },
  {
   "cell_type": "code",
   "execution_count": null,
   "metadata": {
    "colab": {
     "base_uri": "https://localhost:8080/"
    },
    "id": "lLQ--yi2nEPd",
    "outputId": "fd48b305-79a7-4ef1-8e51-817c17fce12b"
   },
   "outputs": [
    {
     "name": "stdout",
     "output_type": "stream",
     "text": [
      "Mounted at /content/gdrive\n"
     ]
    }
   ],
   "source": [
    "from google.colab import drive\n",
    "drive.mount('/content/gdrive')"
   ]
  },
  {
   "cell_type": "code",
   "execution_count": null,
   "metadata": {
    "id": "3P4p_J-BodjR"
   },
   "outputs": [],
   "source": [
    "Path = '/content/gdrive/MyDrive/Capstone/vendors-cves.csv'"
   ]
  },
  {
   "cell_type": "code",
   "execution_count": null,
   "metadata": {
    "colab": {
     "base_uri": "https://localhost:8080/",
     "height": 540
    },
    "id": "17loBwcDpZXq",
    "outputId": "c766cc41-46c6-4a9e-d159-15400ce56334"
   },
   "outputs": [
    {
     "data": {
      "text/html": [
       "\n",
       "  <div id=\"df-43fedff8-a5e5-433f-996a-f5cdf4e19732\">\n",
       "    <div class=\"colab-df-container\">\n",
       "      <div>\n",
       "<style scoped>\n",
       "    .dataframe tbody tr th:only-of-type {\n",
       "        vertical-align: middle;\n",
       "    }\n",
       "\n",
       "    .dataframe tbody tr th {\n",
       "        vertical-align: top;\n",
       "    }\n",
       "\n",
       "    .dataframe thead th {\n",
       "        text-align: right;\n",
       "    }\n",
       "</style>\n",
       "<table border=\"1\" class=\"dataframe\">\n",
       "  <thead>\n",
       "    <tr style=\"text-align: right;\">\n",
       "      <th></th>\n",
       "      <th>Unnamed: 0</th>\n",
       "      <th>_id</th>\n",
       "      <th>id</th>\n",
       "      <th>assigner</th>\n",
       "      <th>Published</th>\n",
       "      <th>Modified</th>\n",
       "      <th>last-modified</th>\n",
       "      <th>summary</th>\n",
       "      <th>access</th>\n",
       "      <th>impact</th>\n",
       "      <th>...</th>\n",
       "      <th>Unnamed: 7063</th>\n",
       "      <th>Unnamed: 7064</th>\n",
       "      <th>Unnamed: 7065</th>\n",
       "      <th>Unnamed: 7066</th>\n",
       "      <th>Unnamed: 7067</th>\n",
       "      <th>Unnamed: 7068</th>\n",
       "      <th>Unnamed: 7069</th>\n",
       "      <th>Unnamed: 7070</th>\n",
       "      <th>Unnamed: 7071</th>\n",
       "      <th>Unnamed: 7072</th>\n",
       "    </tr>\n",
       "  </thead>\n",
       "  <tbody>\n",
       "    <tr>\n",
       "      <th>0</th>\n",
       "      <td>0</td>\n",
       "      <td>6211d7cc1291c8f278e33f0f</td>\n",
       "      <td>CVE-2008-0027</td>\n",
       "      <td>psirt@cisco.com</td>\n",
       "      <td>2008-01-17 3:00</td>\n",
       "      <td>2018-10-15 21:57</td>\n",
       "      <td>2018-10-15 21:57</td>\n",
       "      <td>Heap-based buffer overflow in the Certificate ...</td>\n",
       "      <td>{'authentication': 'NONE', 'complexity': 'LOW'...</td>\n",
       "      <td>{'availability': 'COMPLETE', 'confidentiality'...</td>\n",
       "      <td>...</td>\n",
       "      <td>NaN</td>\n",
       "      <td>NaN</td>\n",
       "      <td>NaN</td>\n",
       "      <td>NaN</td>\n",
       "      <td>NaN</td>\n",
       "      <td>NaN</td>\n",
       "      <td>NaN</td>\n",
       "      <td>NaN</td>\n",
       "      <td>NaN</td>\n",
       "      <td>NaN</td>\n",
       "    </tr>\n",
       "    <tr>\n",
       "      <th>1</th>\n",
       "      <td>1</td>\n",
       "      <td>6211d7cccaa888fa42e33eec</td>\n",
       "      <td>CVE-2008-0028</td>\n",
       "      <td>psirt@cisco.com</td>\n",
       "      <td>2008-01-23 21:00</td>\n",
       "      <td>2018-10-26 14:19</td>\n",
       "      <td>2018-10-26 14:19</td>\n",
       "      <td>Unspecified vulnerability in Cisco PIX 500 Ser...</td>\n",
       "      <td>{'authentication': 'NONE', 'complexity': 'MEDI...</td>\n",
       "      <td>{'availability': 'COMPLETE', 'confidentiality'...</td>\n",
       "      <td>...</td>\n",
       "      <td>NaN</td>\n",
       "      <td>NaN</td>\n",
       "      <td>NaN</td>\n",
       "      <td>NaN</td>\n",
       "      <td>NaN</td>\n",
       "      <td>NaN</td>\n",
       "      <td>NaN</td>\n",
       "      <td>NaN</td>\n",
       "      <td>NaN</td>\n",
       "      <td>NaN</td>\n",
       "    </tr>\n",
       "    <tr>\n",
       "      <th>2</th>\n",
       "      <td>2</td>\n",
       "      <td>6211d7cccaa888fa42e33f46</td>\n",
       "      <td>CVE-1999-0158</td>\n",
       "      <td>cve@mitre.org</td>\n",
       "      <td>1998-08-31 4:00</td>\n",
       "      <td>2018-10-30 16:25</td>\n",
       "      <td>2018-10-30 16:25</td>\n",
       "      <td>Cisco PIX firewall manager (PFM) on Windows NT...</td>\n",
       "      <td>{'authentication': 'NONE', 'complexity': 'LOW'...</td>\n",
       "      <td>{'availability': 'NONE', 'confidentiality': 'P...</td>\n",
       "      <td>...</td>\n",
       "      <td>NaN</td>\n",
       "      <td>NaN</td>\n",
       "      <td>NaN</td>\n",
       "      <td>NaN</td>\n",
       "      <td>NaN</td>\n",
       "      <td>NaN</td>\n",
       "      <td>NaN</td>\n",
       "      <td>NaN</td>\n",
       "      <td>NaN</td>\n",
       "      <td>NaN</td>\n",
       "    </tr>\n",
       "    <tr>\n",
       "      <th>3</th>\n",
       "      <td>3</td>\n",
       "      <td>6211d7cccaa888fa42e33f64</td>\n",
       "      <td>CVE-1999-0293</td>\n",
       "      <td>cve@mitre.org</td>\n",
       "      <td>1998-01-01 5:00</td>\n",
       "      <td>2008-09-09 12:34</td>\n",
       "      <td>2008-09-09 12:34</td>\n",
       "      <td>AAA authentication on Cisco systems allows att...</td>\n",
       "      <td>{'authentication': 'NONE', 'complexity': 'LOW'...</td>\n",
       "      <td>{'availability': 'PARTIAL', 'confidentiality':...</td>\n",
       "      <td>...</td>\n",
       "      <td>NaN</td>\n",
       "      <td>NaN</td>\n",
       "      <td>NaN</td>\n",
       "      <td>NaN</td>\n",
       "      <td>NaN</td>\n",
       "      <td>NaN</td>\n",
       "      <td>NaN</td>\n",
       "      <td>NaN</td>\n",
       "      <td>NaN</td>\n",
       "      <td>NaN</td>\n",
       "    </tr>\n",
       "    <tr>\n",
       "      <th>4</th>\n",
       "      <td>4</td>\n",
       "      <td>6211d7cccaa888fa42e33f6a</td>\n",
       "      <td>CVE-2009-0057</td>\n",
       "      <td>psirt@cisco.com</td>\n",
       "      <td>2009-01-22 18:30</td>\n",
       "      <td>2017-08-08 1:33</td>\n",
       "      <td>2017-08-08 1:33</td>\n",
       "      <td>The Certificate Authority Proxy Function (CAPF...</td>\n",
       "      <td>{'authentication': 'NONE', 'complexity': 'MEDI...</td>\n",
       "      <td>{'availability': 'PARTIAL', 'confidentiality':...</td>\n",
       "      <td>...</td>\n",
       "      <td>NaN</td>\n",
       "      <td>NaN</td>\n",
       "      <td>NaN</td>\n",
       "      <td>NaN</td>\n",
       "      <td>NaN</td>\n",
       "      <td>NaN</td>\n",
       "      <td>NaN</td>\n",
       "      <td>NaN</td>\n",
       "      <td>NaN</td>\n",
       "      <td>NaN</td>\n",
       "    </tr>\n",
       "    <tr>\n",
       "      <th>...</th>\n",
       "      <td>...</td>\n",
       "      <td>...</td>\n",
       "      <td>...</td>\n",
       "      <td>...</td>\n",
       "      <td>...</td>\n",
       "      <td>...</td>\n",
       "      <td>...</td>\n",
       "      <td>...</td>\n",
       "      <td>...</td>\n",
       "      <td>...</td>\n",
       "      <td>...</td>\n",
       "      <td>...</td>\n",
       "      <td>...</td>\n",
       "      <td>...</td>\n",
       "      <td>...</td>\n",
       "      <td>...</td>\n",
       "      <td>...</td>\n",
       "      <td>...</td>\n",
       "      <td>...</td>\n",
       "      <td>...</td>\n",
       "      <td>...</td>\n",
       "    </tr>\n",
       "    <tr>\n",
       "      <th>5874</th>\n",
       "      <td>5487</td>\n",
       "      <td>6211d8a0caa888fa42e365d0</td>\n",
       "      <td>CVE-2020-3468</td>\n",
       "      <td>psirt@cisco.com</td>\n",
       "      <td>2020-07-16 18:15</td>\n",
       "      <td>2020-07-23 17:07</td>\n",
       "      <td>2020-07-23 17:07</td>\n",
       "      <td>A vulnerability in the web-based management in...</td>\n",
       "      <td>{'authentication': 'SINGLE', 'complexity': 'LO...</td>\n",
       "      <td>{'availability': 'NONE', 'confidentiality': 'P...</td>\n",
       "      <td>...</td>\n",
       "      <td>NaN</td>\n",
       "      <td>NaN</td>\n",
       "      <td>NaN</td>\n",
       "      <td>NaN</td>\n",
       "      <td>NaN</td>\n",
       "      <td>NaN</td>\n",
       "      <td>NaN</td>\n",
       "      <td>NaN</td>\n",
       "      <td>NaN</td>\n",
       "      <td>NaN</td>\n",
       "    </tr>\n",
       "    <tr>\n",
       "      <th>5875</th>\n",
       "      <td>5488</td>\n",
       "      <td>6211d8a0caa888fa42e365dd</td>\n",
       "      <td>CVE-2020-3470</td>\n",
       "      <td>psirt@cisco.com</td>\n",
       "      <td>2020-11-18 19:15</td>\n",
       "      <td>2021-08-06 19:06</td>\n",
       "      <td>2021-08-06 19:06</td>\n",
       "      <td>Multiple vulnerabilities in the API subsystem ...</td>\n",
       "      <td>{'authentication': 'NONE', 'complexity': 'LOW'...</td>\n",
       "      <td>{'availability': 'COMPLETE', 'confidentiality'...</td>\n",
       "      <td>...</td>\n",
       "      <td>NaN</td>\n",
       "      <td>NaN</td>\n",
       "      <td>NaN</td>\n",
       "      <td>NaN</td>\n",
       "      <td>NaN</td>\n",
       "      <td>NaN</td>\n",
       "      <td>NaN</td>\n",
       "      <td>NaN</td>\n",
       "      <td>NaN</td>\n",
       "      <td>NaN</td>\n",
       "    </tr>\n",
       "    <tr>\n",
       "      <th>5876</th>\n",
       "      <td>5489</td>\n",
       "      <td>6211d9401980d5b6dee36ad7</td>\n",
       "      <td>CVE-2021-44228</td>\n",
       "      <td>security@apache.org</td>\n",
       "      <td>2021-12-10 10:15</td>\n",
       "      <td>2022-02-19 4:23</td>\n",
       "      <td>2022-02-19 4:23</td>\n",
       "      <td>Apache Log4j2 2.0-beta9 through 2.15.0 (exclud...</td>\n",
       "      <td>{'authentication': 'NONE', 'complexity': 'MEDI...</td>\n",
       "      <td>{'availability': 'COMPLETE', 'confidentiality'...</td>\n",
       "      <td>...</td>\n",
       "      <td>NaN</td>\n",
       "      <td>NaN</td>\n",
       "      <td>NaN</td>\n",
       "      <td>NaN</td>\n",
       "      <td>NaN</td>\n",
       "      <td>NaN</td>\n",
       "      <td>NaN</td>\n",
       "      <td>NaN</td>\n",
       "      <td>NaN</td>\n",
       "      <td>NaN</td>\n",
       "    </tr>\n",
       "    <tr>\n",
       "      <th>5877</th>\n",
       "      <td>oller_supervisor:1.5\\\\(3h\\\\)1:*:*:*:*:*:*:*'</td>\n",
       "      <td>'cpe:2.3:a:cisco:integrated_management_contro...</td>\n",
       "      <td>'cpe:2.3:a:cisco:integrated_management_contro...</td>\n",
       "      <td>'cpe:2.3:a:cisco:integrated_management_contro...</td>\n",
       "      <td>'cpe:2.3:a:cisco:integrated_management_contro...</td>\n",
       "      <td>'cpe:2.3:a:cisco:integrated_management_contro...</td>\n",
       "      <td>'cpe:2.3:a:cisco:integrated_management_contro...</td>\n",
       "      <td>'cpe:2.3:a:cisco:integrated_management_contro...</td>\n",
       "      <td>'cpe:2.3:a:cisco:integrated_management_contro...</td>\n",
       "      <td>'cpe:2.3:a:cisco:integrated_management_contro...</td>\n",
       "      <td>...</td>\n",
       "      <td>NaN</td>\n",
       "      <td>NaN</td>\n",
       "      <td>NaN</td>\n",
       "      <td>NaN</td>\n",
       "      <td>NaN</td>\n",
       "      <td>NaN</td>\n",
       "      <td>NaN</td>\n",
       "      <td>NaN</td>\n",
       "      <td>NaN</td>\n",
       "      <td>NaN</td>\n",
       "    </tr>\n",
       "    <tr>\n",
       "      <th>5878</th>\n",
       "      <td>:cisco:integrated_management_controller_superv...</td>\n",
       "      <td>'cpe:2.3:a:cisco:integrated_management_contro...</td>\n",
       "      <td>'cpe:2.3:a:cisco:integrated_management_contro...</td>\n",
       "      <td>'cpe:2.3:a:cisco:integrated_management_contro...</td>\n",
       "      <td>'cpe:2.3:a:cisco:integrated_management_contro...</td>\n",
       "      <td>'cpe:2.3:a:cisco:integrated_management_contro...</td>\n",
       "      <td>'cpe:2.3:a:cisco:integrated_management_contro...</td>\n",
       "      <td>'cpe:2.3:a:cisco:integrated_management_contro...</td>\n",
       "      <td>'cpe:2.3:a:cisco:integrated_management_contro...</td>\n",
       "      <td>'cpe:2.3:a:cisco:integrated_management_contro...</td>\n",
       "      <td>...</td>\n",
       "      <td>NaN</td>\n",
       "      <td>NaN</td>\n",
       "      <td>NaN</td>\n",
       "      <td>NaN</td>\n",
       "      <td>NaN</td>\n",
       "      <td>NaN</td>\n",
       "      <td>NaN</td>\n",
       "      <td>NaN</td>\n",
       "      <td>NaN</td>\n",
       "      <td>NaN</td>\n",
       "    </tr>\n",
       "  </tbody>\n",
       "</table>\n",
       "<p>5879 rows × 7073 columns</p>\n",
       "</div>\n",
       "      <button class=\"colab-df-convert\" onclick=\"convertToInteractive('df-43fedff8-a5e5-433f-996a-f5cdf4e19732')\"\n",
       "              title=\"Convert this dataframe to an interactive table.\"\n",
       "              style=\"display:none;\">\n",
       "        \n",
       "  <svg xmlns=\"http://www.w3.org/2000/svg\" height=\"24px\"viewBox=\"0 0 24 24\"\n",
       "       width=\"24px\">\n",
       "    <path d=\"M0 0h24v24H0V0z\" fill=\"none\"/>\n",
       "    <path d=\"M18.56 5.44l.94 2.06.94-2.06 2.06-.94-2.06-.94-.94-2.06-.94 2.06-2.06.94zm-11 1L8.5 8.5l.94-2.06 2.06-.94-2.06-.94L8.5 2.5l-.94 2.06-2.06.94zm10 10l.94 2.06.94-2.06 2.06-.94-2.06-.94-.94-2.06-.94 2.06-2.06.94z\"/><path d=\"M17.41 7.96l-1.37-1.37c-.4-.4-.92-.59-1.43-.59-.52 0-1.04.2-1.43.59L10.3 9.45l-7.72 7.72c-.78.78-.78 2.05 0 2.83L4 21.41c.39.39.9.59 1.41.59.51 0 1.02-.2 1.41-.59l7.78-7.78 2.81-2.81c.8-.78.8-2.07 0-2.86zM5.41 20L4 18.59l7.72-7.72 1.47 1.35L5.41 20z\"/>\n",
       "  </svg>\n",
       "      </button>\n",
       "      \n",
       "  <style>\n",
       "    .colab-df-container {\n",
       "      display:flex;\n",
       "      flex-wrap:wrap;\n",
       "      gap: 12px;\n",
       "    }\n",
       "\n",
       "    .colab-df-convert {\n",
       "      background-color: #E8F0FE;\n",
       "      border: none;\n",
       "      border-radius: 50%;\n",
       "      cursor: pointer;\n",
       "      display: none;\n",
       "      fill: #1967D2;\n",
       "      height: 32px;\n",
       "      padding: 0 0 0 0;\n",
       "      width: 32px;\n",
       "    }\n",
       "\n",
       "    .colab-df-convert:hover {\n",
       "      background-color: #E2EBFA;\n",
       "      box-shadow: 0px 1px 2px rgba(60, 64, 67, 0.3), 0px 1px 3px 1px rgba(60, 64, 67, 0.15);\n",
       "      fill: #174EA6;\n",
       "    }\n",
       "\n",
       "    [theme=dark] .colab-df-convert {\n",
       "      background-color: #3B4455;\n",
       "      fill: #D2E3FC;\n",
       "    }\n",
       "\n",
       "    [theme=dark] .colab-df-convert:hover {\n",
       "      background-color: #434B5C;\n",
       "      box-shadow: 0px 1px 3px 1px rgba(0, 0, 0, 0.15);\n",
       "      filter: drop-shadow(0px 1px 2px rgba(0, 0, 0, 0.3));\n",
       "      fill: #FFFFFF;\n",
       "    }\n",
       "  </style>\n",
       "\n",
       "      <script>\n",
       "        const buttonEl =\n",
       "          document.querySelector('#df-43fedff8-a5e5-433f-996a-f5cdf4e19732 button.colab-df-convert');\n",
       "        buttonEl.style.display =\n",
       "          google.colab.kernel.accessAllowed ? 'block' : 'none';\n",
       "\n",
       "        async function convertToInteractive(key) {\n",
       "          const element = document.querySelector('#df-43fedff8-a5e5-433f-996a-f5cdf4e19732');\n",
       "          const dataTable =\n",
       "            await google.colab.kernel.invokeFunction('convertToInteractive',\n",
       "                                                     [key], {});\n",
       "          if (!dataTable) return;\n",
       "\n",
       "          const docLinkHtml = 'Like what you see? Visit the ' +\n",
       "            '<a target=\"_blank\" href=https://colab.research.google.com/notebooks/data_table.ipynb>data table notebook</a>'\n",
       "            + ' to learn more about interactive tables.';\n",
       "          element.innerHTML = '';\n",
       "          dataTable['output_type'] = 'display_data';\n",
       "          await google.colab.output.renderOutput(dataTable, element);\n",
       "          const docLink = document.createElement('div');\n",
       "          docLink.innerHTML = docLinkHtml;\n",
       "          element.appendChild(docLink);\n",
       "        }\n",
       "      </script>\n",
       "    </div>\n",
       "  </div>\n",
       "  "
      ],
      "text/plain": [
       "                                             Unnamed: 0  \\\n",
       "0                                                     0   \n",
       "1                                                     1   \n",
       "2                                                     2   \n",
       "3                                                     3   \n",
       "4                                                     4   \n",
       "...                                                 ...   \n",
       "5874                                               5487   \n",
       "5875                                               5488   \n",
       "5876                                               5489   \n",
       "5877       oller_supervisor:1.5\\\\(3h\\\\)1:*:*:*:*:*:*:*'   \n",
       "5878  :cisco:integrated_management_controller_superv...   \n",
       "\n",
       "                                                    _id  \\\n",
       "0                              6211d7cc1291c8f278e33f0f   \n",
       "1                              6211d7cccaa888fa42e33eec   \n",
       "2                              6211d7cccaa888fa42e33f46   \n",
       "3                              6211d7cccaa888fa42e33f64   \n",
       "4                              6211d7cccaa888fa42e33f6a   \n",
       "...                                                 ...   \n",
       "5874                           6211d8a0caa888fa42e365d0   \n",
       "5875                           6211d8a0caa888fa42e365dd   \n",
       "5876                           6211d9401980d5b6dee36ad7   \n",
       "5877   'cpe:2.3:a:cisco:integrated_management_contro...   \n",
       "5878   'cpe:2.3:a:cisco:integrated_management_contro...   \n",
       "\n",
       "                                                     id  \\\n",
       "0                                         CVE-2008-0027   \n",
       "1                                         CVE-2008-0028   \n",
       "2                                         CVE-1999-0158   \n",
       "3                                         CVE-1999-0293   \n",
       "4                                         CVE-2009-0057   \n",
       "...                                                 ...   \n",
       "5874                                      CVE-2020-3468   \n",
       "5875                                      CVE-2020-3470   \n",
       "5876                                     CVE-2021-44228   \n",
       "5877   'cpe:2.3:a:cisco:integrated_management_contro...   \n",
       "5878   'cpe:2.3:a:cisco:integrated_management_contro...   \n",
       "\n",
       "                                               assigner  \\\n",
       "0                                       psirt@cisco.com   \n",
       "1                                       psirt@cisco.com   \n",
       "2                                         cve@mitre.org   \n",
       "3                                         cve@mitre.org   \n",
       "4                                       psirt@cisco.com   \n",
       "...                                                 ...   \n",
       "5874                                    psirt@cisco.com   \n",
       "5875                                    psirt@cisco.com   \n",
       "5876                                security@apache.org   \n",
       "5877   'cpe:2.3:a:cisco:integrated_management_contro...   \n",
       "5878   'cpe:2.3:a:cisco:integrated_management_contro...   \n",
       "\n",
       "                                              Published  \\\n",
       "0                                       2008-01-17 3:00   \n",
       "1                                      2008-01-23 21:00   \n",
       "2                                       1998-08-31 4:00   \n",
       "3                                       1998-01-01 5:00   \n",
       "4                                      2009-01-22 18:30   \n",
       "...                                                 ...   \n",
       "5874                                   2020-07-16 18:15   \n",
       "5875                                   2020-11-18 19:15   \n",
       "5876                                   2021-12-10 10:15   \n",
       "5877   'cpe:2.3:a:cisco:integrated_management_contro...   \n",
       "5878   'cpe:2.3:a:cisco:integrated_management_contro...   \n",
       "\n",
       "                                               Modified  \\\n",
       "0                                      2018-10-15 21:57   \n",
       "1                                      2018-10-26 14:19   \n",
       "2                                      2018-10-30 16:25   \n",
       "3                                      2008-09-09 12:34   \n",
       "4                                       2017-08-08 1:33   \n",
       "...                                                 ...   \n",
       "5874                                   2020-07-23 17:07   \n",
       "5875                                   2021-08-06 19:06   \n",
       "5876                                    2022-02-19 4:23   \n",
       "5877   'cpe:2.3:a:cisco:integrated_management_contro...   \n",
       "5878   'cpe:2.3:a:cisco:integrated_management_contro...   \n",
       "\n",
       "                                          last-modified  \\\n",
       "0                                      2018-10-15 21:57   \n",
       "1                                      2018-10-26 14:19   \n",
       "2                                      2018-10-30 16:25   \n",
       "3                                      2008-09-09 12:34   \n",
       "4                                       2017-08-08 1:33   \n",
       "...                                                 ...   \n",
       "5874                                   2020-07-23 17:07   \n",
       "5875                                   2021-08-06 19:06   \n",
       "5876                                    2022-02-19 4:23   \n",
       "5877   'cpe:2.3:a:cisco:integrated_management_contro...   \n",
       "5878   'cpe:2.3:a:cisco:integrated_management_contro...   \n",
       "\n",
       "                                                summary  \\\n",
       "0     Heap-based buffer overflow in the Certificate ...   \n",
       "1     Unspecified vulnerability in Cisco PIX 500 Ser...   \n",
       "2     Cisco PIX firewall manager (PFM) on Windows NT...   \n",
       "3     AAA authentication on Cisco systems allows att...   \n",
       "4     The Certificate Authority Proxy Function (CAPF...   \n",
       "...                                                 ...   \n",
       "5874  A vulnerability in the web-based management in...   \n",
       "5875  Multiple vulnerabilities in the API subsystem ...   \n",
       "5876  Apache Log4j2 2.0-beta9 through 2.15.0 (exclud...   \n",
       "5877   'cpe:2.3:a:cisco:integrated_management_contro...   \n",
       "5878   'cpe:2.3:a:cisco:integrated_management_contro...   \n",
       "\n",
       "                                                 access  \\\n",
       "0     {'authentication': 'NONE', 'complexity': 'LOW'...   \n",
       "1     {'authentication': 'NONE', 'complexity': 'MEDI...   \n",
       "2     {'authentication': 'NONE', 'complexity': 'LOW'...   \n",
       "3     {'authentication': 'NONE', 'complexity': 'LOW'...   \n",
       "4     {'authentication': 'NONE', 'complexity': 'MEDI...   \n",
       "...                                                 ...   \n",
       "5874  {'authentication': 'SINGLE', 'complexity': 'LO...   \n",
       "5875  {'authentication': 'NONE', 'complexity': 'LOW'...   \n",
       "5876  {'authentication': 'NONE', 'complexity': 'MEDI...   \n",
       "5877   'cpe:2.3:a:cisco:integrated_management_contro...   \n",
       "5878   'cpe:2.3:a:cisco:integrated_management_contro...   \n",
       "\n",
       "                                                 impact  ... Unnamed: 7063  \\\n",
       "0     {'availability': 'COMPLETE', 'confidentiality'...  ...           NaN   \n",
       "1     {'availability': 'COMPLETE', 'confidentiality'...  ...           NaN   \n",
       "2     {'availability': 'NONE', 'confidentiality': 'P...  ...           NaN   \n",
       "3     {'availability': 'PARTIAL', 'confidentiality':...  ...           NaN   \n",
       "4     {'availability': 'PARTIAL', 'confidentiality':...  ...           NaN   \n",
       "...                                                 ...  ...           ...   \n",
       "5874  {'availability': 'NONE', 'confidentiality': 'P...  ...           NaN   \n",
       "5875  {'availability': 'COMPLETE', 'confidentiality'...  ...           NaN   \n",
       "5876  {'availability': 'COMPLETE', 'confidentiality'...  ...           NaN   \n",
       "5877   'cpe:2.3:a:cisco:integrated_management_contro...  ...           NaN   \n",
       "5878   'cpe:2.3:a:cisco:integrated_management_contro...  ...           NaN   \n",
       "\n",
       "     Unnamed: 7064 Unnamed: 7065 Unnamed: 7066 Unnamed: 7067 Unnamed: 7068  \\\n",
       "0              NaN           NaN           NaN           NaN           NaN   \n",
       "1              NaN           NaN           NaN           NaN           NaN   \n",
       "2              NaN           NaN           NaN           NaN           NaN   \n",
       "3              NaN           NaN           NaN           NaN           NaN   \n",
       "4              NaN           NaN           NaN           NaN           NaN   \n",
       "...            ...           ...           ...           ...           ...   \n",
       "5874           NaN           NaN           NaN           NaN           NaN   \n",
       "5875           NaN           NaN           NaN           NaN           NaN   \n",
       "5876           NaN           NaN           NaN           NaN           NaN   \n",
       "5877           NaN           NaN           NaN           NaN           NaN   \n",
       "5878           NaN           NaN           NaN           NaN           NaN   \n",
       "\n",
       "     Unnamed: 7069 Unnamed: 7070 Unnamed: 7071 Unnamed: 7072  \n",
       "0              NaN           NaN           NaN           NaN  \n",
       "1              NaN           NaN           NaN           NaN  \n",
       "2              NaN           NaN           NaN           NaN  \n",
       "3              NaN           NaN           NaN           NaN  \n",
       "4              NaN           NaN           NaN           NaN  \n",
       "...            ...           ...           ...           ...  \n",
       "5874           NaN           NaN           NaN           NaN  \n",
       "5875           NaN           NaN           NaN           NaN  \n",
       "5876           NaN           NaN           NaN           NaN  \n",
       "5877           NaN           NaN           NaN           NaN  \n",
       "5878           NaN           NaN           NaN           NaN  \n",
       "\n",
       "[5879 rows x 7073 columns]"
      ]
     },
     "execution_count": 6,
     "metadata": {},
     "output_type": "execute_result"
    }
   ],
   "source": [
    "df = pd.read_csv(Path)\n",
    "df"
   ]
  },
  {
   "cell_type": "code",
   "execution_count": null,
   "metadata": {
    "colab": {
     "base_uri": "https://localhost:8080/"
    },
    "id": "btNs4nbko4jY",
    "outputId": "3797c694-f17e-4412-8e7b-d7b7e5fc35ce"
   },
   "outputs": [
    {
     "name": "stdout",
     "output_type": "stream",
     "text": [
      "base buffer overflow provider service ctlprovider.exe allow remote attacker cause denial s\n"
     ]
    }
   ],
   "source": [
    "def lemmatization(texts, allowed_postags=[\"NOUN\", \"ADJ\", \"VERB\", \"ADV\"]):\n",
    "    nlp = spacy.load(\"en_core_web_sm\", disable=[\"parser\", \"ner\"])\n",
    "    texts_out = []\n",
    "    for text in texts:\n",
    "        doc = nlp(text)\n",
    "        new_text = []\n",
    "        for token in doc:\n",
    "            if token.pos_ in allowed_postags:\n",
    "                new_text.append(token.lemma_)\n",
    "        final = \" \".join(new_text)\n",
    "        texts_out.append(final)\n",
    "    return (texts_out)\n",
    "\n",
    "\n",
    "lemmatized_texts = lemmatization(df.summary)\n",
    "print (lemmatized_texts[0][0:90])"
   ]
  },
  {
   "cell_type": "code",
   "execution_count": null,
   "metadata": {
    "colab": {
     "base_uri": "https://localhost:8080/"
    },
    "id": "aNWx9JUTVl_7",
    "outputId": "3a9148af-6957-4d84-a29a-d20713188798"
   },
   "outputs": [
    {
     "data": {
      "text/plain": [
       "['base buffer overflow provider service ctlprovider.exe allow remote attacker cause denial service execute arbitrary code long request',\n",
       " 'unspecified vulnerability when live decrement feature enable allow remote attacker cause denial service device reload craft ip packet',\n",
       " 'firewall manager allow attacker connect port server retrieve file name location know',\n",
       " 'aaa authentication system allow attacker execute command authorization',\n",
       " 'service 6.1(3 allow remote attacker cause denial service voice service outage send malformed input session client terminate prematurely']"
      ]
     },
     "execution_count": 8,
     "metadata": {},
     "output_type": "execute_result"
    }
   ],
   "source": [
    "lemmatized_texts[0:5]"
   ]
  },
  {
   "cell_type": "markdown",
   "metadata": {},
   "source": [
    "## YAKE"
   ]
  },
  {
   "cell_type": "code",
   "execution_count": null,
   "metadata": {
    "colab": {
     "base_uri": "https://localhost:8080/"
    },
    "id": "0PzuAkUNroka",
    "outputId": "7a047c2a-0afe-4ca7-b24d-e222391a27b5"
   },
   "outputs": [
    {
     "name": "stdout",
     "output_type": "stream",
     "text": [
      "Collecting yake\n",
      "  Downloading yake-0.4.8-py2.py3-none-any.whl (60 kB)\n",
      "\u001b[K     |████████████████████████████████| 60 kB 2.5 MB/s \n",
      "\u001b[?25hRequirement already satisfied: click>=6.0 in /usr/local/lib/python3.7/dist-packages (from yake) (7.1.2)\n",
      "Collecting segtok\n",
      "  Downloading segtok-1.5.11-py3-none-any.whl (24 kB)\n",
      "Requirement already satisfied: networkx in /usr/local/lib/python3.7/dist-packages (from yake) (2.6.3)\n",
      "Requirement already satisfied: numpy in /usr/local/lib/python3.7/dist-packages (from yake) (1.21.5)\n",
      "Requirement already satisfied: tabulate in /usr/local/lib/python3.7/dist-packages (from yake) (0.8.9)\n",
      "Collecting jellyfish\n",
      "  Downloading jellyfish-0.9.0.tar.gz (132 kB)\n",
      "\u001b[K     |████████████████████████████████| 132 kB 8.9 MB/s \n",
      "\u001b[?25hRequirement already satisfied: regex in /usr/local/lib/python3.7/dist-packages (from segtok->yake) (2019.12.20)\n",
      "Building wheels for collected packages: jellyfish\n",
      "  Building wheel for jellyfish (setup.py) ... \u001b[?25l\u001b[?25hdone\n",
      "  Created wheel for jellyfish: filename=jellyfish-0.9.0-cp37-cp37m-linux_x86_64.whl size=73995 sha256=d033a0a548fa2bcdcad40cc414e34c54584fd10d11211124d905c96c8ab821a0\n",
      "  Stored in directory: /root/.cache/pip/wheels/fe/99/4e/646ce766df0d070b0ef04db27aa11543e2767fda3075aec31b\n",
      "Successfully built jellyfish\n",
      "Installing collected packages: segtok, jellyfish, yake\n",
      "Successfully installed jellyfish-0.9.0 segtok-1.5.11 yake-0.4.8\n"
     ]
    }
   ],
   "source": [
    "!pip install yake\n",
    "import yake"
   ]
  },
  {
   "cell_type": "code",
   "execution_count": null,
   "metadata": {
    "id": "Ftht6nH_tYuC"
   },
   "outputs": [],
   "source": [
    "def lines(n):\n",
    "    t=[]\n",
    "    for i in range(n):\n",
    "        t.append(lemmatized_texts[i])\n",
    "    for i in t:\n",
    "        d={}\n",
    "        language = \"en\"\n",
    "        max_ngram_size = 5\n",
    "        deduplication_threshold = 0.9\n",
    "        numOfKeywords = 6\n",
    "        custom_kw_extractor = yake.KeywordExtractor(lan=language, n=max_ngram_size, dedupLim=deduplication_threshold, top=numOfKeywords, features=None)\n",
    "        keywords = custom_kw_extractor.extract_keywords(i)\n",
    "        for kw in keywords:\n",
    "            d[kw[0]]=kw[1]    \n",
    "        print(min(d.items(),key=lambda x:x[1]))"
   ]
  },
  {
   "cell_type": "code",
   "execution_count": null,
   "metadata": {
    "colab": {
     "base_uri": "https://localhost:8080/"
    },
    "id": "QSOHw6u8tYqV",
    "outputId": "e4c7e876-3325-462d-d8f9-bc0df6c7a052"
   },
   "outputs": [
    {
     "name": "stdout",
     "output_type": "stream",
     "text": [
      "('execute arbitrary code long request', 0.00012953480683582157)\n",
      "('denial service device reload craft', 0.004357108274714684)\n"
     ]
    }
   ],
   "source": [
    "lines(2)"
   ]
  },
  {
   "cell_type": "markdown",
   "metadata": {},
   "source": [
    "## GENSIM"
   ]
  },
  {
   "cell_type": "code",
   "execution_count": null,
   "metadata": {
    "colab": {
     "base_uri": "https://localhost:8080/"
    },
    "id": "whtGFl4fpWTs",
    "outputId": "f3114ec5-77ba-4ecf-c07c-46b59ca288d2"
   },
   "outputs": [
    {
     "name": "stdout",
     "output_type": "stream",
     "text": [
      "['base', 'buffer', 'overflow', 'provider', 'service', 'ctlprovider', 'exe', 'allow', 'remote', 'attacker', 'cause', 'denial', 'service', 'execute', 'arbitrary', 'code', 'long', 'request']\n"
     ]
    }
   ],
   "source": [
    "def gen_words(texts):\n",
    "    final = []\n",
    "    for text in texts:\n",
    "        new = gensim.utils.simple_preprocess(text, deacc=True)\n",
    "        final.append(new)\n",
    "    return (final)\n",
    "\n",
    "data_words = gen_words(lemmatized_texts)\n",
    "\n",
    "print (data_words[0][0:20])"
   ]
  },
  {
   "cell_type": "code",
   "execution_count": null,
   "metadata": {
    "colab": {
     "base_uri": "https://localhost:8080/"
    },
    "id": "5nlegJN9qzag",
    "outputId": "737cba1d-59f0-4c89-e5e2-f343f0e2c683"
   },
   "outputs": [
    {
     "name": "stdout",
     "output_type": "stream",
     "text": [
      "[(0, 1), (1, 1), (2, 1), (3, 1), (4, 1), (5, 1), (6, 1), (7, 1), (8, 1), (9, 1), (10, 1), (11, 1), (12, 1), (13, 1), (14, 1), (15, 1), (16, 2)]\n",
      "allow\n"
     ]
    }
   ],
   "source": [
    "id2word = corpora.Dictionary(data_words)\n",
    "\n",
    "corpus = []\n",
    "for text in data_words:\n",
    "    new = id2word.doc2bow(text)\n",
    "    corpus.append(new)\n",
    "\n",
    "print (corpus[0][0:20])\n",
    "\n",
    "word = id2word[[0][:1][0]]\n",
    "print (word)"
   ]
  },
  {
   "cell_type": "code",
   "execution_count": null,
   "metadata": {
    "id": "PyZKeuHUrFO1"
   },
   "outputs": [],
   "source": [
    "lda_model = gensim.models.ldamodel.LdaModel(corpus=corpus,\n",
    "                                           id2word=id2word,\n",
    "                                           num_topics=3,\n",
    "                                           random_state=100,\n",
    "                                           update_every=1,\n",
    "                                           chunksize=100,\n",
    "                                           passes=10,\n",
    "                                           alpha=\"auto\")"
   ]
  },
  {
   "cell_type": "code",
   "execution_count": null,
   "metadata": {
    "colab": {
     "base_uri": "https://localhost:8080/",
     "height": 862
    },
    "id": "5mlNzcrsr46c",
    "outputId": "3531fefb-4ac1-411f-cb68-d15ce71869b7"
   },
   "outputs": [
    {
     "data": {
      "text/html": [
       "\n",
       "<link rel=\"stylesheet\" type=\"text/css\" href=\"https://cdn.jsdelivr.net/gh/bmabey/pyLDAvis@3.3.1/pyLDAvis/js/ldavis.v1.0.0.css\">\n",
       "\n",
       "\n",
       "<div id=\"ldavis_el611400748655947045283635433\"></div>\n",
       "<script type=\"text/javascript\">\n",
       "\n",
       "var ldavis_el611400748655947045283635433_data = {\"mdsDat\": {\"x\": [0.20953829369131505, 0.01425830889859977, -0.22379660258991485], \"y\": [0.04649102943248154, -0.1727183729128856, 0.12622734348040407], \"topics\": [1, 2, 3], \"cluster\": [1, 1, 1], \"Freq\": [51.33378986164008, 28.732011302376343, 19.934198835983576]}, \"tinfo\": {\"Term\": [\"cpe\", \"vulnerability\", \"could\", \"cause\", \"condition\", \"affected\", \"exploit\", \"web\", \"aka\", \"remote\", \"base\", \"interface\", \"service\", \"device\", \"execute\", \"privilege\", \"session\", \"result\", \"user\", \"unauthenticated\", \"denial\", \"arbitrary\", \"send\", \"authentication\", \"command\", \"firmware\", \"packet\", \"due\", \"password\", \"management\", \"web\", \"base\", \"execute\", \"privilege\", \"command\", \"root\", \"attack\", \"underlying\", \"supply\", \"conduct\", \"site\", \"operating\", \"cross\", \"credential\", \"script\", \"scripting\", \"persuade\", \"browser\", \"link\", \"context\", \"see\", \"advisory\", \"administrator\", \"section\", \"click\", \"view\", \"directory\", \"shell\", \"elevate\", \"traversal\", \"level\", \"arbitrary\", \"interface\", \"management\", \"user\", \"code\", \"file\", \"authenticated\", \"system\", \"input\", \"sensitive\", \"vulnerability\", \"could\", \"information\", \"attacker\", \"exploit\", \"insufficient\", \"allow\", \"affected\", \"access\", \"successful\", \"due\", \"validation\", \"local\", \"device\", \"remote\", \"software\", \"request\", \"condition\", \"result\", \"dos\", \"adjacent\", \"processing\", \"restart\", \"protocol\", \"update\", \"unexpectedly\", \"handling\", \"lead\", \"high\", \"filter\", \"configured\", \"policy\", \"fixed\", \"domain\", \"stop\", \"incoming\", \"broadcast\", \"peer\", \"exhaust\", \"detection\", \"will\", \"prevent\", \"consume\", \"unexpected\", \"receive\", \"rate\", \"recover\", \"parse\", \"prior\", \"traffic\", \"resource\", \"cause\", \"reload\", \"process\", \"packet\", \"buffer\", \"message\", \"crash\", \"service\", \"unauthenticated\", \"send\", \"denial\", \"device\", \"configure\", \"affected\", \"version\", \"vulnerability\", \"could\", \"exploit\", \"attacker\", \"due\", \"allow\", \"successful\", \"affect\", \"remote\", \"software\", \"craft\", \"system\", \"cpe\", \"aka\", \"firmware\", \"password\", \"key\", \"certificate\", \"unspecified\", \"dpc\", \"response\", \"login\", \"vector\", \"earlier\", \"man\", \"middle\", \"cscuw\", \"discover\", \"different\", \"consumption\", \"agent\", \"cscuv\", \"username\", \"card\", \"early\", \"invalid\", \"private\", \"identifier\", \"cscuu\", \"audio\", \"group\", \"cscux\", \"session\", \"schedule\", \"neighbor\", \"syslog\", \"relate\", \"cmcst\", \"join\", \"usb\", \"meeting\", \"trust\", \"share\", \"authentication\", \"proxy\", \"template\", \"remote\", \"obtain\", \"server\", \"allow\", \"service\", \"network\", \"denial\", \"use\", \"device\", \"attacker\", \"craft\", \"cause\", \"bypass\", \"access\", \"when\", \"packet\", \"log\", \"request\", \"user\", \"read\", \"feature\", \"authenticated\"], \"Freq\": [2190.0, 9527.0, 8759.0, 2123.0, 1294.0, 4744.0, 5573.0, 2232.0, 866.0, 3515.0, 1800.0, 2574.0, 1559.0, 5127.0, 1627.0, 1451.0, 616.0, 750.0, 2654.0, 1577.0, 1167.0, 1748.0, 1547.0, 709.0, 1227.0, 496.0, 1035.0, 2291.0, 390.0, 1657.0, 2231.921174337569, 1799.1640522832474, 1626.3248888977773, 1450.3736620113018, 1226.1052542285186, 740.9893667608425, 773.437384921101, 571.3230136756255, 546.0845052587132, 542.9440811894814, 535.7552877782686, 490.0832387309662, 442.22552617922975, 512.0919443181746, 415.2444033261133, 373.8681209539906, 336.52928435570414, 310.02624288356316, 362.08496072222607, 305.25723466919464, 267.75501948648287, 253.77913953235222, 246.8371328200942, 278.43666339011406, 200.86374708136282, 217.42450963907976, 190.18470402728985, 184.8258118250651, 151.05277389528564, 145.3363553431318, 251.98457595323197, 1697.0238502883644, 2473.8741830802373, 1543.5467679796116, 2382.1654232614806, 982.6242124462442, 1215.8815181597238, 1369.5316587364755, 1850.2637351174037, 974.3972051235379, 768.6570686651748, 6087.274731006794, 5550.287138091736, 1184.2049798266962, 5878.1899472486675, 3518.5096147491367, 877.2034118989806, 3789.1854109056353, 2641.0276631705074, 1183.6008590145188, 1553.09364991293, 1395.9165764065049, 844.7363057645725, 703.9997677180233, 1726.1271306845272, 1359.7616917593073, 885.1449137884385, 788.4311243119214, 1294.0650484630864, 749.9023775227333, 409.09420915826104, 293.90263308740805, 229.88324513943104, 176.95373681251817, 180.60839219456545, 179.56450151165228, 135.0938799240087, 153.39603072951982, 129.44833085453607, 131.04428130102707, 108.46162931939702, 91.00656214428537, 92.07996597355235, 85.5789976927778, 91.98569859165369, 79.06125698270075, 76.89749334752479, 69.66375978278914, 95.90802928693167, 61.37038211003318, 61.335786601139795, 67.71786051042473, 61.305843067920875, 56.9840563988434, 58.37878199823464, 70.45814000986717, 54.84429316061651, 59.44383125894338, 66.27065935958177, 218.03244154083347, 481.2437062558667, 132.3849363858782, 1679.1193157144187, 612.0491101883146, 548.983206364701, 775.4628509072594, 127.16964759715424, 329.6677309451937, 297.5404907232784, 1003.3943169302423, 1002.0991056349731, 971.6658934310474, 754.0525221124694, 2505.5703517012776, 237.78537583491783, 2103.1908358776354, 323.63398558181933, 3439.1791093659017, 3208.6837528367714, 2054.5804116434556, 2987.5345762031056, 894.9655868891526, 1805.0967916951884, 810.9656153123168, 419.0696399674066, 737.4735137305297, 433.55066428312915, 417.2569264421412, 404.9464190378458, 2190.226705463475, 866.0760004297105, 495.45190017232443, 389.7627254046295, 285.79688441300283, 218.09463160425702, 164.04492430382317, 152.75384122002117, 170.88470437784292, 126.77029829906976, 89.73547552505818, 146.1078095097954, 85.15177794638991, 85.15177794638991, 80.7255486675642, 79.36851092327694, 108.42351123606514, 72.77667096677, 91.98715804170241, 70.73006170921519, 88.02905663719389, 70.6022998524411, 59.00728889811479, 85.31596477659384, 52.84329198093465, 60.406306479169885, 50.23596208357241, 53.235860540266046, 92.25776112339503, 50.56896845609219, 603.9541104287404, 97.4617327462897, 97.97667077332082, 100.20521168538697, 96.71786409059179, 87.89568722272602, 110.00155789086762, 100.11480573566142, 276.73675739924, 150.6508094810197, 166.16211325974297, 535.024237213492, 93.24876630768019, 96.18968221547574, 1418.2661968876332, 262.5135320178791, 224.19156178012386, 1541.4445229485154, 555.5296836904117, 210.8742401984706, 413.1804484069809, 320.95000930705544, 895.8202077864721, 1269.838421758501, 439.815477995563, 444.28167594324447, 222.9817696306587, 334.35879072554974, 217.51474778373256, 259.4956033091176, 207.89592008046705, 238.91490929215036, 272.14203791782205, 197.21270152010632, 189.74594643628404, 194.9266447187112], \"Total\": [2190.0, 9527.0, 8759.0, 2123.0, 1294.0, 4744.0, 5573.0, 2232.0, 866.0, 3515.0, 1800.0, 2574.0, 1559.0, 5127.0, 1627.0, 1451.0, 616.0, 750.0, 2654.0, 1577.0, 1167.0, 1748.0, 1547.0, 709.0, 1227.0, 496.0, 1035.0, 2291.0, 390.0, 1657.0, 2232.8182859855465, 1800.065753783874, 1627.2408210683273, 1451.2795678691073, 1227.0079377328766, 741.908388834301, 774.4399082768778, 572.1932101747401, 546.961006793446, 543.8383670617567, 536.6723798657099, 491.00345936217775, 443.0908043035504, 513.1992999835637, 416.1512115154978, 374.7282572910502, 337.39034382917697, 310.9006091003858, 363.1346763627982, 306.1587655782695, 268.7529898161052, 254.72968493546892, 247.77680784393763, 279.5299048025675, 201.7208506255487, 218.41063774270103, 191.0964138236847, 185.7423505959007, 151.93808566251428, 146.24203256649707, 253.72149146037307, 1748.0979676909742, 2574.0239665506933, 1657.0025122291736, 2654.5400572187164, 1062.452534928639, 1366.3368956631034, 1564.7573832138526, 2255.904551456042, 1115.9041148048905, 870.8967800132115, 9527.159573684, 8759.67400015695, 1492.8655771895044, 10135.562945210273, 5573.7911037321655, 1078.20984023183, 7135.726725549339, 4744.898884796232, 1619.081005757957, 2364.7658837742824, 2291.5854107095597, 1111.5540968014484, 849.3093377707221, 5127.517690172277, 3515.50140237747, 1496.832536375656, 1192.4056116705501, 1294.9528801154052, 750.8156403557431, 409.9732139213651, 294.8262012613849, 230.8134637864715, 177.8475342351148, 181.59000048948175, 180.5502152934641, 135.97134529597275, 154.51248324016433, 130.43533915590453, 132.11028405503438, 109.36025541495438, 91.90948969448203, 93.01225076616491, 86.47223705563188, 93.02875483618462, 79.95782172523175, 77.80788557306607, 70.55127398962414, 97.19008599973817, 62.245913300220934, 62.22009643459969, 68.752183785972, 62.25169337932838, 57.87244001479268, 59.290700975832614, 71.56537044769784, 55.76414480701194, 60.5764206815041, 67.55136932540832, 229.4197913846785, 551.0876810556683, 140.66115848390228, 2123.6353631871166, 737.1751726939445, 660.9255478162188, 1035.1748510174518, 139.9991268865806, 416.88333680307295, 378.74055317377463, 1559.173377369104, 1577.182436298361, 1547.4918097609261, 1167.4535297178613, 5127.517690172277, 299.39856153152493, 4744.898884796232, 451.4088919942204, 9527.159573684, 8759.67400015695, 5573.7911037321655, 10135.562945210273, 2291.5854107095597, 7135.726725549339, 2364.7658837742824, 882.7203165159445, 3515.50140237747, 1496.832536375656, 1555.7177240138349, 2255.904551456042, 2190.644426895019, 866.5022786172442, 496.06128628922073, 390.3196436985901, 286.263934259391, 218.54634038791013, 164.46504212262957, 153.24508945429176, 171.43432472079272, 127.37581138803193, 90.16715966106113, 146.86700163318457, 85.59666533198528, 85.59666533198528, 81.16809001910667, 79.81092556725183, 109.03280987620057, 73.21277312381879, 92.54964745804224, 71.16775299489117, 88.58390921333933, 71.09276926003183, 59.43784337055609, 85.9494547116161, 53.274140357488996, 60.90098877420931, 50.66488734539516, 53.69980976305644, 93.09017644635175, 51.04310740746596, 616.156511911642, 98.45264775547143, 99.12283272434448, 101.46573827310584, 98.14466415866, 89.08166760371269, 112.09865632724612, 101.8508300500653, 292.6890516079175, 156.12665697828348, 173.2135392471015, 709.9729253343173, 95.60654741386504, 100.31899059046756, 3515.50140237747, 385.03242267383297, 342.7876774636658, 7135.726725549339, 1559.173377369104, 355.51964876071634, 1167.4535297178613, 769.3717060841575, 5127.517690172277, 10135.562945210273, 1555.7177240138349, 2123.6353631871166, 549.1193987820388, 1619.081005757957, 580.2350434916941, 1035.1748510174518, 535.1802225446236, 1192.4056116705501, 2654.5400572187164, 497.4904247211823, 508.97047047704814, 1564.7573832138526], \"Category\": [\"Default\", \"Default\", \"Default\", \"Default\", \"Default\", \"Default\", \"Default\", \"Default\", \"Default\", \"Default\", \"Default\", \"Default\", \"Default\", \"Default\", \"Default\", \"Default\", \"Default\", \"Default\", \"Default\", \"Default\", \"Default\", \"Default\", \"Default\", \"Default\", \"Default\", \"Default\", \"Default\", \"Default\", \"Default\", \"Default\", \"Topic1\", \"Topic1\", \"Topic1\", \"Topic1\", \"Topic1\", \"Topic1\", \"Topic1\", \"Topic1\", \"Topic1\", \"Topic1\", \"Topic1\", \"Topic1\", \"Topic1\", \"Topic1\", \"Topic1\", \"Topic1\", \"Topic1\", \"Topic1\", \"Topic1\", \"Topic1\", \"Topic1\", \"Topic1\", \"Topic1\", \"Topic1\", \"Topic1\", \"Topic1\", \"Topic1\", \"Topic1\", \"Topic1\", \"Topic1\", \"Topic1\", \"Topic1\", \"Topic1\", \"Topic1\", \"Topic1\", \"Topic1\", \"Topic1\", \"Topic1\", \"Topic1\", \"Topic1\", \"Topic1\", \"Topic1\", \"Topic1\", \"Topic1\", \"Topic1\", \"Topic1\", \"Topic1\", \"Topic1\", \"Topic1\", \"Topic1\", \"Topic1\", \"Topic1\", \"Topic1\", \"Topic1\", \"Topic1\", \"Topic1\", \"Topic1\", \"Topic1\", \"Topic2\", \"Topic2\", \"Topic2\", \"Topic2\", \"Topic2\", \"Topic2\", \"Topic2\", \"Topic2\", \"Topic2\", \"Topic2\", \"Topic2\", \"Topic2\", \"Topic2\", \"Topic2\", \"Topic2\", \"Topic2\", \"Topic2\", \"Topic2\", \"Topic2\", \"Topic2\", \"Topic2\", \"Topic2\", \"Topic2\", \"Topic2\", \"Topic2\", \"Topic2\", \"Topic2\", \"Topic2\", \"Topic2\", \"Topic2\", \"Topic2\", \"Topic2\", \"Topic2\", \"Topic2\", \"Topic2\", \"Topic2\", \"Topic2\", \"Topic2\", \"Topic2\", \"Topic2\", \"Topic2\", \"Topic2\", \"Topic2\", \"Topic2\", \"Topic2\", \"Topic2\", \"Topic2\", \"Topic2\", \"Topic2\", \"Topic2\", \"Topic2\", \"Topic2\", \"Topic2\", \"Topic2\", \"Topic2\", \"Topic2\", \"Topic2\", \"Topic2\", \"Topic2\", \"Topic2\", \"Topic2\", \"Topic3\", \"Topic3\", \"Topic3\", \"Topic3\", \"Topic3\", \"Topic3\", \"Topic3\", \"Topic3\", \"Topic3\", \"Topic3\", \"Topic3\", \"Topic3\", \"Topic3\", \"Topic3\", \"Topic3\", \"Topic3\", \"Topic3\", \"Topic3\", \"Topic3\", \"Topic3\", \"Topic3\", \"Topic3\", \"Topic3\", \"Topic3\", \"Topic3\", \"Topic3\", \"Topic3\", \"Topic3\", \"Topic3\", \"Topic3\", \"Topic3\", \"Topic3\", \"Topic3\", \"Topic3\", \"Topic3\", \"Topic3\", \"Topic3\", \"Topic3\", \"Topic3\", \"Topic3\", \"Topic3\", \"Topic3\", \"Topic3\", \"Topic3\", \"Topic3\", \"Topic3\", \"Topic3\", \"Topic3\", \"Topic3\", \"Topic3\", \"Topic3\", \"Topic3\", \"Topic3\", \"Topic3\", \"Topic3\", \"Topic3\", \"Topic3\", \"Topic3\", \"Topic3\", \"Topic3\", \"Topic3\", \"Topic3\", \"Topic3\", \"Topic3\", \"Topic3\", \"Topic3\"], \"logprob\": [30.0, 29.0, 28.0, 27.0, 26.0, 25.0, 24.0, 23.0, 22.0, 21.0, 20.0, 19.0, 18.0, 17.0, 16.0, 15.0, 14.0, 13.0, 12.0, 11.0, 10.0, 9.0, 8.0, 7.0, 6.0, 5.0, 4.0, 3.0, 2.0, 1.0, -3.7732, -3.9888, -4.0898, -4.2043, -4.3723, -4.8759, -4.833, -5.1359, -5.1811, -5.1869, -5.2002, -5.2893, -5.392, -5.2454, -5.455, -5.56, -5.6652, -5.7472, -5.592, -5.7627, -5.8938, -5.9474, -5.9751, -5.8547, -6.1812, -6.102, -6.2359, -6.2644, -6.4662, -6.5048, -5.9545, -4.0472, -3.6703, -4.142, -3.7081, -4.5936, -4.3806, -4.2616, -3.9608, -4.602, -4.8392, -2.7699, -2.8623, -4.407, -2.8049, -3.3181, -4.7071, -3.244, -3.6049, -4.4075, -4.1359, -4.2426, -4.7448, -4.9271, -4.0302, -4.2688, -4.6981, -4.8138, -3.738, -4.2836, -4.8896, -5.2203, -5.466, -5.7276, -5.7072, -5.713, -5.9976, -5.8705, -6.0402, -6.028, -6.2171, -6.3926, -6.3809, -6.4541, -6.3819, -6.5333, -6.561, -6.6598, -6.3401, -6.7866, -6.7872, -6.6882, -6.7876, -6.8608, -6.8366, -6.6485, -6.899, -6.8185, -6.7098, -5.5189, -4.7271, -6.0178, -3.4775, -4.4867, -4.5955, -4.2501, -6.058, -5.1054, -5.208, -3.9924, -3.9937, -4.0245, -4.2781, -3.0773, -5.4322, -3.2523, -5.1239, -2.7605, -2.8299, -3.2757, -2.9013, -4.1067, -3.4052, -4.2053, -4.8655, -4.3003, -4.8315, -4.8698, -4.8998, -2.8462, -3.774, -4.3325, -4.5724, -4.8827, -5.153, -5.4378, -5.5091, -5.397, -5.6956, -6.0411, -5.5536, -6.0935, -6.0935, -6.1469, -6.1638, -5.8519, -6.2506, -6.0163, -6.2791, -6.0603, -6.2809, -6.4603, -6.0916, -6.5706, -6.4369, -6.6212, -6.5632, -6.0134, -6.6146, -4.1344, -5.9585, -5.9532, -5.9307, -5.9661, -6.0618, -5.8375, -5.9316, -4.9149, -5.523, -5.425, -4.2556, -6.0027, -5.9716, -3.2808, -4.9676, -5.1254, -3.1975, -4.218, -5.1867, -4.5141, -4.7667, -3.7402, -3.3913, -4.4516, -4.4415, -5.1309, -4.7257, -5.1557, -4.9792, -5.2009, -5.0618, -4.9316, -5.2537, -5.2923, -5.2653], \"loglift\": [30.0, 29.0, 28.0, 27.0, 26.0, 25.0, 24.0, 23.0, 22.0, 21.0, 20.0, 19.0, 18.0, 17.0, 16.0, 15.0, 14.0, 13.0, 12.0, 11.0, 10.0, 9.0, 8.0, 7.0, 6.0, 5.0, 4.0, 3.0, 2.0, 1.0, 0.6664, 0.6663, 0.6663, 0.6662, 0.6661, 0.6656, 0.6655, 0.6653, 0.6652, 0.6652, 0.6651, 0.6649, 0.6649, 0.6647, 0.6646, 0.6645, 0.6643, 0.664, 0.6639, 0.6639, 0.6631, 0.6631, 0.663, 0.6629, 0.6626, 0.6623, 0.662, 0.6619, 0.661, 0.6606, 0.66, 0.6372, 0.6271, 0.5959, 0.5586, 0.5887, 0.5502, 0.5336, 0.4686, 0.5312, 0.5419, 0.2189, 0.2105, 0.4352, 0.122, 0.2068, 0.4605, 0.0339, 0.0809, 0.3535, 0.2464, 0.1711, 0.3923, 0.4792, -0.4219, -0.2831, 0.1415, 0.2531, 1.2465, 1.2459, 1.245, 1.244, 1.2431, 1.2421, 1.2417, 1.2417, 1.2407, 1.2399, 1.2396, 1.2391, 1.2389, 1.2373, 1.2371, 1.2368, 1.2359, 1.2359, 1.2354, 1.2345, 1.2339, 1.233, 1.2328, 1.232, 1.2318, 1.2317, 1.2317, 1.2316, 1.2305, 1.2283, 1.228, 1.1962, 1.1116, 1.1865, 1.0123, 1.0611, 1.0616, 0.9583, 1.151, 1.0124, 1.0059, 0.8064, 0.7936, 0.7818, 0.81, 0.5311, 1.0168, 0.4335, 0.9144, 0.2282, 0.2429, 0.2492, 0.0256, 0.3069, -0.1273, 0.1769, 0.5022, -0.3145, 0.0081, -0.0688, -0.4704, 1.6125, 1.6122, 1.6115, 1.6113, 1.6111, 1.6107, 1.6102, 1.6095, 1.6095, 1.608, 1.6079, 1.6076, 1.6075, 1.6075, 1.6073, 1.6072, 1.6071, 1.6068, 1.6066, 1.6066, 1.6065, 1.6058, 1.6055, 1.6053, 1.6046, 1.6046, 1.6042, 1.6041, 1.6038, 1.6034, 1.5927, 1.6026, 1.6011, 1.6002, 1.5981, 1.5993, 1.5938, 1.5955, 1.5567, 1.577, 1.5712, 1.3298, 1.5878, 1.5707, 0.705, 1.2297, 1.1881, 0.0803, 0.5807, 1.0904, 0.574, 0.7384, -0.1319, -0.4644, 0.3494, 0.0483, 0.7115, 0.0353, 0.6316, 0.2291, 0.6672, 0.0051, -0.665, 0.6874, 0.626, -0.4701]}, \"token.table\": {\"Topic\": [1, 2, 3, 2, 3, 1, 3, 1, 3, 1, 2, 3, 1, 2, 3, 3, 3, 1, 2, 3, 1, 3, 1, 3, 1, 2, 3, 3, 1, 3, 1, 3, 1, 3, 2, 3, 1, 3, 2, 3, 1, 2, 3, 3, 2, 3, 3, 1, 3, 1, 2, 3, 1, 2, 3, 1, 3, 2, 3, 1, 3, 2, 3, 2, 3, 2, 3, 3, 1, 3, 1, 2, 3, 3, 1, 2, 3, 2, 3, 1, 3, 1, 3, 3, 3, 3, 3, 2, 3, 2, 3, 1, 2, 3, 3, 1, 3, 3, 2, 3, 2, 3, 3, 1, 2, 3, 3, 3, 1, 3, 1, 3, 2, 3, 1, 2, 3, 1, 2, 3, 1, 2, 3, 2, 3, 3, 2, 3, 3, 2, 3, 2, 3, 3, 2, 3, 1, 2, 3, 1, 2, 3, 1, 2, 3, 1, 2, 3, 3, 2, 3, 3, 2, 3, 1, 2, 3, 1, 3, 1, 3, 1, 2, 3, 3, 3, 1, 2, 3, 1, 3, 2, 3, 3, 2, 3, 2, 3, 1, 3, 1, 3, 2, 3, 2, 3, 3, 2, 3, 1, 3, 2, 3, 2, 3, 1, 2, 3, 3, 1, 3, 2, 3, 2, 3, 2, 3, 2, 3, 2, 3, 1, 3, 2, 3, 2, 3, 1, 3, 2, 3, 1, 2, 3, 1, 2, 3, 2, 3, 3, 2, 3, 2, 3, 1, 3, 1, 3, 1, 3, 1, 3, 1, 3, 1, 3, 1, 2, 3, 1, 3, 1, 2, 3, 2, 3, 2, 3, 2, 3, 1, 3, 1, 3, 1, 2, 3, 2, 3, 1, 2, 3, 1, 3, 2, 3, 1, 2, 3, 1, 3, 2, 3, 1, 3, 1, 2, 3, 1, 2, 3, 1, 3, 2, 3, 2, 3, 3, 2, 3, 1, 3, 1, 2, 3, 1, 3, 3, 1, 2, 3, 3, 2, 3, 1, 3, 1, 2, 3, 1, 3, 1, 2, 3, 2, 3], \"Freq\": [0.7312790377932461, 0.06238106656851171, 0.206289863701811, 0.9971976667682517, 0.0033918287985314683, 0.996864888805788, 0.004035890238080113, 0.9971354538610065, 0.003925730133311049, 0.5245149469624073, 0.474669034076131, 0.0011328616565062792, 0.5565977408838749, 0.4432128167659178, 0.0002107526470593998, 0.9940610529252266, 0.9994203377998663, 0.5309900653052695, 0.25295251197572216, 0.21595557947622598, 0.9707693912839059, 0.029174566267224044, 0.998140710129361, 0.0012912557698956805, 0.579938187131258, 0.29480355616675724, 0.1253013776210782, 0.986968114670345, 0.8755350923388259, 0.12461995839859201, 0.24648827265855905, 0.7535498621275948, 0.9994079361925342, 0.0005555352619191408, 0.9921861936936077, 0.014174088481337253, 0.9971032250371211, 0.0032164620162487777, 0.9071485145967249, 0.09285772196659389, 0.18575195162698432, 0.4079258545533774, 0.4061047569884069, 0.9986950957038611, 0.7906253724651603, 0.20907544096160285, 0.9975001165110319, 0.9964264942205364, 0.004957345742390729, 0.011225654244020042, 0.011225654244020042, 0.9878575734737637, 0.9252178028508582, 0.056473111059055434, 0.01882437035301848, 0.9991785401692356, 0.0008149906526665869, 0.9992641584647309, 0.0007722288705291584, 0.9984584260461684, 0.0018387816317608995, 0.794926998922605, 0.203741793841508, 0.99010450718957, 0.010880269309775495, 0.9849247756864982, 0.017279382029587686, 0.9970937704618982, 0.9962151481239454, 0.00326627917417687, 0.6335852224524061, 0.36633783402698583, 0.00011415949954097409, 0.9997058277066295, 0.4493103017406928, 0.2680434847294262, 0.2828276577480756, 0.7868183047809801, 0.2138667204270449, 0.9976630911546408, 0.0019485607249114078, 0.9975381924134831, 0.002256873738492043, 0.9868767625818952, 0.9976428510409312, 0.9979291120554012, 0.9991554705491998, 0.6458501180618463, 0.3537614041903747, 0.9803906373581058, 0.016071977661608294, 0.33661512339745997, 0.48873551519932484, 0.17474342442880889, 0.9905275313240733, 0.9942625096842669, 0.005232960577285615, 0.9898394165775147, 0.9889415392262729, 0.010749364556807315, 0.9976261524208951, 0.002439183746750355, 0.9984006700954365, 0.6091852363328438, 0.3905593026632487, 0.00043637910912094826, 0.9940966886806201, 0.9926335925779403, 0.993825868883211, 0.006581628270749742, 0.9992374693086223, 0.0006145371889966927, 0.979984014465147, 0.016065311712543395, 0.6313476652621061, 0.36868981304735093, 0.00017941110123958684, 0.11395553055492144, 0.5147646380239554, 0.3733026000937082, 0.889970843837791, 0.04171738330489645, 0.06879708825719766, 0.9875617022857797, 0.009144089835979441, 0.997860574250493, 0.9945388592719295, 0.011564405340371273, 0.9882890280374533, 0.9902112553727234, 0.006471968989364205, 0.9915957787618421, 0.007569433425662918, 0.9852056790481722, 0.9896169190678312, 0.012852167780101705, 0.7931055669653926, 0.09444922714706111, 0.11253524936671112, 0.8728348494084534, 0.1263549422654948, 0.0008961343423084737, 0.8133852681324378, 0.1854926495170896, 0.0009274632475854479, 0.9611410119522974, 0.03846118034893995, 0.00038849677120141366, 0.9889533364138053, 0.017841427056551527, 0.981278488110334, 0.9990780038006749, 0.9889957800915523, 0.00766663395419808, 0.9932150349169694, 0.003941329503638767, 0.003941329503638767, 0.9968753290813115, 0.002753799251605833, 0.8289088188384554, 0.17072695842553415, 0.6091405965077828, 0.0018685294371404383, 0.3886541229252112, 0.9970495859148086, 0.9930293390557784, 0.9318030531666782, 0.06819543070455611, 0.0006034993867659832, 0.05466552271805983, 0.9463968620564107, 0.7915883674570691, 0.2086914786932273, 0.9930293390557784, 0.01008849295884177, 0.9886723099664936, 0.40504090421432565, 0.5934974360362688, 0.31685643290188087, 0.6830593594524154, 0.9979563089769647, 0.002036645528524418, 0.7486657922941894, 0.2501992776828323, 0.9770342283080146, 0.014803548913757797, 0.99918107196563, 0.9877550679424095, 0.010289115291066766, 0.9988430497899057, 0.002963925963768266, 0.9891170167604079, 0.01075127192130878, 0.9798930228017858, 0.016063820045930915, 0.047947040373495085, 0.9502231637656299, 0.004358821852135917, 0.9948541570891728, 0.9991183174507265, 0.0006890471154832597, 0.8306533191430792, 0.16794629949887394, 0.9964756657903456, 0.004332502894740633, 0.9967509197208471, 0.005506911158678713, 0.020919069395345158, 0.9727367268835498, 0.9862968434348544, 0.017932669880633717, 0.6030266817057525, 0.3959875209867774, 0.9781267051661269, 0.013973238645230384, 0.9739763316523349, 0.016508073417836184, 0.010189040928230256, 0.988336970038335, 0.8301961632314577, 0.16956620981034676, 0.3868580450800721, 0.20964292590000966, 0.4033564028849575, 0.660848952980034, 0.13837573254023552, 0.20043515198252299, 0.9384253721691515, 0.056874264979948574, 0.9974665241543659, 0.9952344898187098, 0.00562279372778932, 0.9989136609416439, 0.0013318848812555251, 0.998775605117866, 0.0013478753105504264, 0.010157167153936962, 0.9852452139318854, 0.9972336701572839, 0.002402972699174178, 0.9980565722576812, 0.0026686004605820353, 0.9945268653683116, 0.003577434767511912, 0.9971982085980869, 0.0037208888380525634, 0.3715690101706144, 0.6281131789318908, 0.0006462069742097642, 0.8829978680003092, 0.11712065349288886, 0.15169740168245052, 0.19253900982772568, 0.6534657303244022, 0.6432895882896795, 0.35659921344871565, 0.0194755711706587, 0.9802704155898213, 0.040412545291935865, 0.9583546454944791, 0.9960033315314516, 0.005383801792061901, 0.9987471316003291, 0.0018633342007468828, 0.5912485054225826, 0.28994559474960546, 0.11891777849177367, 0.988020912719168, 0.012506593831888202, 0.6567246299753512, 0.34295149704443645, 0.0004228748422249525, 0.998243006756405, 0.001828283895158251, 0.009855543526509348, 0.9855543526509347, 0.8200701571376073, 0.17952887223823297, 0.0004432811660203283, 0.039872809489573204, 0.9569474277497568, 0.8728193652933636, 0.12702152925267246, 0.9915070069480038, 0.006837979358262095, 0.006405056121448214, 0.032025280607241066, 0.9671634743386802, 0.36394014211011316, 0.6353101435441348, 0.0006340420594252843, 0.9979146726079191, 0.0017476614231312067, 0.9782309712216303, 0.01686605122795914, 0.9928562500146012, 0.007354490740848898, 0.9971723953210505, 0.9969525636257492, 0.005538625353476385, 0.019636560634968707, 0.9818280317484354, 0.42372236647384665, 0.1598707088229544, 0.4172235571721005, 0.8973305916113132, 0.10246596176250092, 0.9934084054482956, 0.760196919278629, 0.23930459234096485, 0.0008996413245900935, 0.9981461137104741, 0.7177528084762413, 0.2813413786311193, 0.9935413505620416, 0.00457853156941033, 0.6389102599701973, 0.36096802760596497, 0.00010496307868739895, 0.9996335187728073, 0.0004478644797369208, 0.1551095560488813, 0.46877554716995234, 0.37570981354062355, 0.9890594924473444, 0.01454499253599036], \"Term\": [\"access\", \"access\", \"access\", \"adjacent\", \"adjacent\", \"administrator\", \"administrator\", \"advisory\", \"advisory\", \"affect\", \"affect\", \"affect\", \"affected\", \"affected\", \"affected\", \"agent\", \"aka\", \"allow\", \"allow\", \"allow\", \"arbitrary\", \"arbitrary\", \"attack\", \"attack\", \"attacker\", \"attacker\", \"attacker\", \"audio\", \"authenticated\", \"authenticated\", \"authentication\", \"authentication\", \"base\", \"base\", \"broadcast\", \"broadcast\", \"browser\", \"browser\", \"buffer\", \"buffer\", \"bypass\", \"bypass\", \"bypass\", \"card\", \"cause\", \"cause\", \"certificate\", \"click\", \"click\", \"cmcst\", \"cmcst\", \"cmcst\", \"code\", \"code\", \"code\", \"command\", \"command\", \"condition\", \"condition\", \"conduct\", \"conduct\", \"configure\", \"configure\", \"configured\", \"configured\", \"consume\", \"consume\", \"consumption\", \"context\", \"context\", \"could\", \"could\", \"could\", \"cpe\", \"craft\", \"craft\", \"craft\", \"crash\", \"crash\", \"credential\", \"credential\", \"cross\", \"cross\", \"cscuu\", \"cscuv\", \"cscuw\", \"cscux\", \"denial\", \"denial\", \"detection\", \"detection\", \"device\", \"device\", \"device\", \"different\", \"directory\", \"directory\", \"discover\", \"domain\", \"domain\", \"dos\", \"dos\", \"dpc\", \"due\", \"due\", \"due\", \"earlier\", \"early\", \"elevate\", \"elevate\", \"execute\", \"execute\", \"exhaust\", \"exhaust\", \"exploit\", \"exploit\", \"exploit\", \"feature\", \"feature\", \"feature\", \"file\", \"file\", \"file\", \"filter\", \"filter\", \"firmware\", \"fixed\", \"fixed\", \"group\", \"handling\", \"handling\", \"high\", \"high\", \"identifier\", \"incoming\", \"incoming\", \"information\", \"information\", \"information\", \"input\", \"input\", \"input\", \"insufficient\", \"insufficient\", \"insufficient\", \"interface\", \"interface\", \"interface\", \"invalid\", \"join\", \"join\", \"key\", \"lead\", \"lead\", \"level\", \"level\", \"level\", \"link\", \"link\", \"local\", \"local\", \"log\", \"log\", \"log\", \"login\", \"man\", \"management\", \"management\", \"management\", \"meeting\", \"meeting\", \"message\", \"message\", \"middle\", \"neighbor\", \"neighbor\", \"network\", \"network\", \"obtain\", \"obtain\", \"operating\", \"operating\", \"packet\", \"packet\", \"parse\", \"parse\", \"password\", \"peer\", \"peer\", \"persuade\", \"persuade\", \"policy\", \"policy\", \"prevent\", \"prevent\", \"prior\", \"prior\", \"prior\", \"private\", \"privilege\", \"privilege\", \"process\", \"process\", \"processing\", \"processing\", \"protocol\", \"protocol\", \"proxy\", \"proxy\", \"rate\", \"rate\", \"read\", \"read\", \"receive\", \"receive\", \"recover\", \"recover\", \"relate\", \"relate\", \"reload\", \"reload\", \"remote\", \"remote\", \"remote\", \"request\", \"request\", \"request\", \"resource\", \"resource\", \"response\", \"restart\", \"restart\", \"result\", \"result\", \"root\", \"root\", \"schedule\", \"schedule\", \"script\", \"script\", \"scripting\", \"scripting\", \"section\", \"section\", \"see\", \"see\", \"send\", \"send\", \"send\", \"sensitive\", \"sensitive\", \"server\", \"server\", \"server\", \"service\", \"service\", \"session\", \"session\", \"share\", \"share\", \"shell\", \"shell\", \"site\", \"site\", \"software\", \"software\", \"software\", \"stop\", \"stop\", \"successful\", \"successful\", \"successful\", \"supply\", \"supply\", \"syslog\", \"syslog\", \"system\", \"system\", \"system\", \"template\", \"template\", \"traffic\", \"traffic\", \"traversal\", \"traversal\", \"trust\", \"trust\", \"trust\", \"unauthenticated\", \"unauthenticated\", \"unauthenticated\", \"underlying\", \"underlying\", \"unexpected\", \"unexpected\", \"unexpectedly\", \"unexpectedly\", \"unspecified\", \"update\", \"update\", \"usb\", \"usb\", \"use\", \"use\", \"use\", \"user\", \"user\", \"username\", \"validation\", \"validation\", \"validation\", \"vector\", \"version\", \"version\", \"view\", \"view\", \"vulnerability\", \"vulnerability\", \"vulnerability\", \"web\", \"web\", \"when\", \"when\", \"when\", \"will\", \"will\"]}, \"R\": 30, \"lambda.step\": 0.01, \"plot.opts\": {\"xlab\": \"PC1\", \"ylab\": \"PC2\"}, \"topic.order\": [3, 2, 1]};\n",
       "\n",
       "function LDAvis_load_lib(url, callback){\n",
       "  var s = document.createElement('script');\n",
       "  s.src = url;\n",
       "  s.async = true;\n",
       "  s.onreadystatechange = s.onload = callback;\n",
       "  s.onerror = function(){console.warn(\"failed to load library \" + url);};\n",
       "  document.getElementsByTagName(\"head\")[0].appendChild(s);\n",
       "}\n",
       "\n",
       "if(typeof(LDAvis) !== \"undefined\"){\n",
       "   // already loaded: just create the visualization\n",
       "   !function(LDAvis){\n",
       "       new LDAvis(\"#\" + \"ldavis_el611400748655947045283635433\", ldavis_el611400748655947045283635433_data);\n",
       "   }(LDAvis);\n",
       "}else if(typeof define === \"function\" && define.amd){\n",
       "   // require.js is available: use it to load d3/LDAvis\n",
       "   require.config({paths: {d3: \"https://d3js.org/d3.v5\"}});\n",
       "   require([\"d3\"], function(d3){\n",
       "      window.d3 = d3;\n",
       "      LDAvis_load_lib(\"https://cdn.jsdelivr.net/gh/bmabey/pyLDAvis@3.3.1/pyLDAvis/js/ldavis.v3.0.0.js\", function(){\n",
       "        new LDAvis(\"#\" + \"ldavis_el611400748655947045283635433\", ldavis_el611400748655947045283635433_data);\n",
       "      });\n",
       "    });\n",
       "}else{\n",
       "    // require.js not available: dynamically load d3 & LDAvis\n",
       "    LDAvis_load_lib(\"https://d3js.org/d3.v5.js\", function(){\n",
       "         LDAvis_load_lib(\"https://cdn.jsdelivr.net/gh/bmabey/pyLDAvis@3.3.1/pyLDAvis/js/ldavis.v3.0.0.js\", function(){\n",
       "                 new LDAvis(\"#\" + \"ldavis_el611400748655947045283635433\", ldavis_el611400748655947045283635433_data);\n",
       "            })\n",
       "         });\n",
       "}\n",
       "</script>"
      ],
      "text/plain": [
       "PreparedData(topic_coordinates=              x         y  topics  cluster       Freq\n",
       "topic                                                \n",
       "2      0.209538  0.046491       1        1  51.333790\n",
       "1      0.014258 -0.172718       2        1  28.732011\n",
       "0     -0.223797  0.126227       3        1  19.934199, topic_info=              Term         Freq        Total Category  logprob  loglift\n",
       "171            cpe  2190.000000  2190.000000  Default  30.0000  30.0000\n",
       "27   vulnerability  9527.000000  9527.000000  Default  29.0000  29.0000\n",
       "193          could  8759.000000  8759.000000  Default  28.0000  28.0000\n",
       "5            cause  2123.000000  2123.000000  Default  27.0000  27.0000\n",
       "753      condition  1294.000000  1294.000000  Default  26.0000  26.0000\n",
       "..             ...          ...          ...      ...      ...      ...\n",
       "15         request   238.914909  1192.405612   Topic3  -5.0618   0.0051\n",
       "132           user   272.142038  2654.540057   Topic3  -4.9316  -0.6650\n",
       "122           read   197.212702   497.490425   Topic3  -5.2537   0.6874\n",
       "21         feature   189.745946   508.970470   Topic3  -5.2923   0.6260\n",
       "126  authenticated   194.926645  1564.757383   Topic3  -5.2653  -0.4701\n",
       "\n",
       "[215 rows x 6 columns], token_table=      Topic      Freq      Term\n",
       "term                           \n",
       "106       1  0.731279    access\n",
       "106       2  0.062381    access\n",
       "106       3  0.206290    access\n",
       "781       2  0.997198  adjacent\n",
       "781       3  0.003392  adjacent\n",
       "...     ...       ...       ...\n",
       "28        1  0.155110      when\n",
       "28        2  0.468776      when\n",
       "28        3  0.375710      when\n",
       "1041      2  0.989059      will\n",
       "1041      3  0.014545      will\n",
       "\n",
       "[326 rows x 3 columns], R=30, lambda_step=0.01, plot_opts={'xlab': 'PC1', 'ylab': 'PC2'}, topic_order=[3, 2, 1])"
      ]
     },
     "execution_count": 15,
     "metadata": {},
     "output_type": "execute_result"
    }
   ],
   "source": [
    "pyLDAvis.enable_notebook()\n",
    "vis = pyLDAvis.gensim_models.prepare(lda_model, corpus, id2word, mds=\"mmds\", R=30)\n",
    "vis"
   ]
  },
  {
   "cell_type": "code",
   "execution_count": null,
   "metadata": {
    "colab": {
     "base_uri": "https://localhost:8080/"
    },
    "id": "ZDlolp1UsBBH",
    "outputId": "f5fa5366-0c20-4761-96d8-669a806e1f3d"
   },
   "outputs": [
    {
     "data": {
      "text/plain": [
       "[(0,\n",
       "  '0.058*\"cpe\" + 0.041*\"allow\" + 0.038*\"remote\" + 0.034*\"attacker\" + 0.024*\"device\" + 0.023*\"aka\" + 0.016*\"session\" + 0.015*\"service\" + 0.014*\"authentication\" + 0.013*\"firmware\"'),\n",
       " (1,\n",
       "  '0.063*\"vulnerability\" + 0.059*\"could\" + 0.055*\"attacker\" + 0.046*\"device\" + 0.039*\"affected\" + 0.038*\"exploit\" + 0.033*\"allow\" + 0.031*\"cause\" + 0.024*\"condition\" + 0.018*\"service\"'),\n",
       " (2,\n",
       "  '0.063*\"vulnerability\" + 0.061*\"attacker\" + 0.057*\"could\" + 0.039*\"allow\" + 0.036*\"exploit\" + 0.027*\"affected\" + 0.025*\"interface\" + 0.025*\"user\" + 0.023*\"web\" + 0.019*\"system\"')]"
      ]
     },
     "execution_count": 16,
     "metadata": {},
     "output_type": "execute_result"
    }
   ],
   "source": [
    "lda_model.print_topics()"
   ]
  },
  {
   "cell_type": "code",
   "execution_count": null,
   "metadata": {
    "colab": {
     "base_uri": "https://localhost:8080/"
    },
    "id": "IkuOJspdefGo",
    "outputId": "71ed699c-bd83-4f7b-d0c0-516f8cd27f67"
   },
   "outputs": [
    {
     "name": "stdout",
     "output_type": "stream",
     "text": [
      "\n",
      "Perplexity:\t -5.282490018613095 \n",
      "\n",
      "\n",
      "Coherence Score:\t nan \n",
      "\n"
     ]
    }
   ],
   "source": [
    "print(\"\\nPerplexity:\\t\",lda_model.log_perplexity(corpus, total_docs=10000),'\\n')\n",
    "\n",
    "coherence_model_lda = CoherenceModel(model=lda_model, texts=df.summary, dictionary=id2word, coherence='c_v')\n",
    "coherence_lda = coherence_model_lda.get_coherence()\n",
    "print(\"\\nCoherence Score:\\t\",coherence_lda,'\\n')"
   ]
  }
 ],
 "metadata": {
  "colab": {
   "collapsed_sections": [],
   "name": "Capstone.ipynb",
   "provenance": []
  },
  "kernelspec": {
   "display_name": "Python 3 (ipykernel)",
   "language": "python",
   "name": "python3"
  },
  "language_info": {
   "codemirror_mode": {
    "name": "ipython",
    "version": 3
   },
   "file_extension": ".py",
   "mimetype": "text/x-python",
   "name": "python",
   "nbconvert_exporter": "python",
   "pygments_lexer": "ipython3",
   "version": "3.8.12"
  }
 },
 "nbformat": 4,
 "nbformat_minor": 4
}
